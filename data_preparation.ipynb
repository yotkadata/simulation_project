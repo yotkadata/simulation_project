{
 "cells": [
  {
   "attachments": {},
   "cell_type": "markdown",
   "metadata": {},
   "source": [
    "# Project week 8: Simulation"
   ]
  },
  {
   "cell_type": "code",
   "execution_count": null,
   "metadata": {},
   "outputs": [],
   "source": [
    "import numpy as np\n",
    "import pandas as pd"
   ]
  },
  {
   "attachments": {},
   "cell_type": "markdown",
   "metadata": {},
   "source": [
    "## Import data"
   ]
  },
  {
   "cell_type": "code",
   "execution_count": null,
   "metadata": {},
   "outputs": [],
   "source": [
    "# Create empty DataFrame to be filled with data\n",
    "df_raw = pd.DataFrame(columns=[\"timestamp\", \"customer_no\", \"location\"])\n",
    "\n",
    "# Import data\n",
    "days = [\"monday\", \"tuesday\", \"wednesday\", \"thursday\", \"friday\"]\n",
    "\n",
    "# Loop through days and import one csv file per day\n",
    "for i, day in enumerate(days):\n",
    "    data = pd.read_csv(f\"data/{day}.csv\", delimiter=\";\", parse_dates=[0])\n",
    "\n",
    "    # Add 10,000 per day to customer number to separate days\n",
    "    data[\"customer_no\"] = data[\"customer_no\"] + (i + 1) * 10000\n",
    "\n",
    "    df_raw = pd.concat([df_raw, data])"
   ]
  },
  {
   "cell_type": "code",
   "execution_count": null,
   "metadata": {},
   "outputs": [],
   "source": [
    "# Sort, reset index and save a copy\n",
    "df = df_raw.sort_values(\"timestamp\").reset_index(drop=True).copy()"
   ]
  },
  {
   "attachments": {},
   "cell_type": "markdown",
   "metadata": {},
   "source": [
    "## For every customer, add a line for entrance"
   ]
  },
  {
   "cell_type": "code",
   "execution_count": null,
   "metadata": {},
   "outputs": [],
   "source": [
    "# Create a copy of a grouped dataframe (by customer_no) and get first values\n",
    "first_entry = df.groupby(\"customer_no\").first().reset_index().copy()\n",
    "\n",
    "# Change timestamp minus one minute\n",
    "first_entry[\"timestamp\"] = first_entry[\"timestamp\"] - pd.Timedelta(minutes=1)\n",
    "\n",
    "# Set location to entrance\n",
    "first_entry[\"location\"] = \"entrance\"\n",
    "\n",
    "# Add dataframe as rows to the old dataframe\n",
    "df = pd.concat([df, first_entry])\n",
    "\n",
    "# Sort by timestamp and reset index\n",
    "df = df.sort_values(\"timestamp\").reset_index(drop=True)"
   ]
  },
  {
   "attachments": {},
   "cell_type": "markdown",
   "metadata": {},
   "source": [
    "## Find customers with mising checkout"
   ]
  },
  {
   "cell_type": "code",
   "execution_count": null,
   "metadata": {},
   "outputs": [],
   "source": [
    "# Create a copy of a grouped dataframe (by customer_no) and get last values\n",
    "last_locations = (\n",
    "    df.groupby(\"customer_no\").last().reset_index().copy()\n",
    ")\n",
    "\n",
    "# Filter out those customers that have no checkout as last location\n",
    "last_locations = last_locations[last_locations[\"location\"] != \"checkout\"]\n",
    "\n",
    "# Add one minute to timestamp\n",
    "last_locations[\"timestamp\"] = last_locations[\"timestamp\"] + pd.Timedelta(minutes=1)\n",
    "\n",
    "# Set location to checkout\n",
    "last_locations[\"location\"] = \"checkout\"\n",
    "\n",
    "# Add dataframe as rows to the old dataframe\n",
    "df = pd.concat([df, last_locations])\n",
    "\n",
    "# Sort by timestamp and reset index\n",
    "df = df.sort_values(\"timestamp\").reset_index(drop=True)"
   ]
  },
  {
   "attachments": {},
   "cell_type": "markdown",
   "metadata": {},
   "source": [
    "## Fill missing datetimes"
   ]
  },
  {
   "cell_type": "code",
   "execution_count": null,
   "metadata": {},
   "outputs": [],
   "source": [
    "# See entries for one customer before\n",
    "# df[df[\"customer_no\"] == 10434]"
   ]
  },
  {
   "cell_type": "code",
   "execution_count": null,
   "metadata": {},
   "outputs": [],
   "source": [
    "df = (\n",
    "    df.set_index(\"timestamp\")\n",
    "    .groupby(\"customer_no\")[[\"location\"]]\n",
    "    .resample(rule=\"1min\")\n",
    "    .ffill()\n",
    "    .reset_index()\n",
    ")\n",
    "\n",
    "# TODO: Quite slow, improve performance"
   ]
  },
  {
   "cell_type": "code",
   "execution_count": null,
   "metadata": {},
   "outputs": [],
   "source": [
    "# See entries for one customer after\n",
    "# df[df[\"customer_no\"] == 10434]"
   ]
  },
  {
   "cell_type": "code",
   "execution_count": null,
   "metadata": {},
   "outputs": [],
   "source": [
    "df.to_csv(\"data/data_clean.csv\")"
   ]
  },
  {
   "attachments": {},
   "cell_type": "markdown",
   "metadata": {},
   "source": [
    "## Calculate transition probabilities "
   ]
  },
  {
   "cell_type": "code",
   "execution_count": null,
   "metadata": {},
   "outputs": [],
   "source": [
    "# Add shifted columns\n",
    "df[\"loc_next\"] = df.groupby(\"customer_no\")[\"location\"].shift(-1)\n",
    "df[\"loc_last\"] = df.groupby(\"customer_no\")[\"location\"].shift(1)\n",
    "#df[\"loc_next\"].fillna(\"checkout\", inplace=True)\n",
    "#df[\"loc_last\"].fillna(\"entrance\", inplace=True)"
   ]
  },
  {
   "cell_type": "code",
   "execution_count": null,
   "metadata": {},
   "outputs": [],
   "source": [
    "P = pd.crosstab(\n",
    "    index=df[\"location\"],\n",
    "    columns=df[\"loc_next\"],\n",
    "    normalize=\"index\",\n",
    ")\n",
    "\n",
    "# Add checkout row\n",
    "checkout = pd.DataFrame(\n",
    "    {\"checkout\": [1], \"dairy\": [0], \"drinks\": [0], \"fruit\": [0], \"spices\": [0]},\n",
    "    index=[\"checkout\"],\n",
    ")\n",
    "P = pd.concat([P, checkout])\n",
    "\n",
    "# Add entrance column\n",
    "P[\"entrance\"] = 0.0\n",
    "\n",
    "P = P[[\"entrance\", \"dairy\", \"drinks\", \"fruit\", \"spices\", \"checkout\"]]"
   ]
  },
  {
   "cell_type": "code",
   "execution_count": null,
   "metadata": {},
   "outputs": [],
   "source": [
    "P"
   ]
  },
  {
   "cell_type": "code",
   "execution_count": null,
   "metadata": {},
   "outputs": [],
   "source": [
    "P.to_csv(\"data/transition_probabilities.csv\")"
   ]
  }
 ],
 "metadata": {
  "kernelspec": {
   "display_name": "jupyter",
   "language": "python",
   "name": "python3"
  },
  "language_info": {
   "codemirror_mode": {
    "name": "ipython",
    "version": 3
   },
   "file_extension": ".py",
   "mimetype": "text/x-python",
   "name": "python",
   "nbconvert_exporter": "python",
   "pygments_lexer": "ipython3",
   "version": "3.10.9"
  },
  "orig_nbformat": 4
 },
 "nbformat": 4,
 "nbformat_minor": 2
}
