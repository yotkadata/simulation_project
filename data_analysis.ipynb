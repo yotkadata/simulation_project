{
 "cells": [
  {
   "attachments": {},
   "cell_type": "markdown",
   "metadata": {},
   "source": [
    "# Analyze the data"
   ]
  },
  {
   "cell_type": "code",
   "execution_count": 1,
   "metadata": {},
   "outputs": [],
   "source": [
    "import matplotlib.pyplot as plt\n",
    "import numpy as np\n",
    "import pandas as pd\n",
    "import seaborn as sns\n",
    "import plotly.express as px"
   ]
  },
  {
   "cell_type": "code",
   "execution_count": 2,
   "metadata": {},
   "outputs": [],
   "source": [
    "%matplotlib inline\n",
    "sns.set_style('whitegrid')"
   ]
  },
  {
   "cell_type": "code",
   "execution_count": 19,
   "metadata": {},
   "outputs": [
    {
     "data": {
      "text/html": [
       "<div>\n",
       "<style scoped>\n",
       "    .dataframe tbody tr th:only-of-type {\n",
       "        vertical-align: middle;\n",
       "    }\n",
       "\n",
       "    .dataframe tbody tr th {\n",
       "        vertical-align: top;\n",
       "    }\n",
       "\n",
       "    .dataframe thead th {\n",
       "        text-align: right;\n",
       "    }\n",
       "</style>\n",
       "<table border=\"1\" class=\"dataframe\">\n",
       "  <thead>\n",
       "    <tr style=\"text-align: right;\">\n",
       "      <th></th>\n",
       "      <th>customer_no</th>\n",
       "      <th>timestamp</th>\n",
       "      <th>location</th>\n",
       "    </tr>\n",
       "  </thead>\n",
       "  <tbody>\n",
       "    <tr>\n",
       "      <th>0</th>\n",
       "      <td>10001</td>\n",
       "      <td>2019-09-02 07:02:00</td>\n",
       "      <td>entrance</td>\n",
       "    </tr>\n",
       "    <tr>\n",
       "      <th>1</th>\n",
       "      <td>10001</td>\n",
       "      <td>2019-09-02 07:03:00</td>\n",
       "      <td>dairy</td>\n",
       "    </tr>\n",
       "    <tr>\n",
       "      <th>2</th>\n",
       "      <td>10001</td>\n",
       "      <td>2019-09-02 07:04:00</td>\n",
       "      <td>dairy</td>\n",
       "    </tr>\n",
       "    <tr>\n",
       "      <th>3</th>\n",
       "      <td>10001</td>\n",
       "      <td>2019-09-02 07:05:00</td>\n",
       "      <td>checkout</td>\n",
       "    </tr>\n",
       "    <tr>\n",
       "      <th>4</th>\n",
       "      <td>10002</td>\n",
       "      <td>2019-09-02 07:02:00</td>\n",
       "      <td>entrance</td>\n",
       "    </tr>\n",
       "  </tbody>\n",
       "</table>\n",
       "</div>"
      ],
      "text/plain": [
       "   customer_no           timestamp  location\n",
       "0        10001 2019-09-02 07:02:00  entrance\n",
       "1        10001 2019-09-02 07:03:00     dairy\n",
       "2        10001 2019-09-02 07:04:00     dairy\n",
       "3        10001 2019-09-02 07:05:00  checkout\n",
       "4        10002 2019-09-02 07:02:00  entrance"
      ]
     },
     "execution_count": 19,
     "metadata": {},
     "output_type": "execute_result"
    }
   ],
   "source": [
    "df = pd.read_csv(\"data/data_clean.csv\", index_col=0, parse_dates=[2])\n",
    "df.head()"
   ]
  },
  {
   "attachments": {},
   "cell_type": "markdown",
   "metadata": {},
   "source": [
    "### Calculate the total number of customers in each section"
   ]
  },
  {
   "cell_type": "code",
   "execution_count": 4,
   "metadata": {},
   "outputs": [
    {
     "data": {
      "text/html": [
       "<div>\n",
       "<style scoped>\n",
       "    .dataframe tbody tr th:only-of-type {\n",
       "        vertical-align: middle;\n",
       "    }\n",
       "\n",
       "    .dataframe tbody tr th {\n",
       "        vertical-align: top;\n",
       "    }\n",
       "\n",
       "    .dataframe thead th {\n",
       "        text-align: right;\n",
       "    }\n",
       "</style>\n",
       "<table border=\"1\" class=\"dataframe\">\n",
       "  <thead>\n",
       "    <tr style=\"text-align: right;\">\n",
       "      <th></th>\n",
       "      <th>customer_no</th>\n",
       "    </tr>\n",
       "    <tr>\n",
       "      <th>location</th>\n",
       "      <th></th>\n",
       "    </tr>\n",
       "  </thead>\n",
       "  <tbody>\n",
       "    <tr>\n",
       "      <th>checkout</th>\n",
       "      <td>7445</td>\n",
       "    </tr>\n",
       "    <tr>\n",
       "      <th>dairy</th>\n",
       "      <td>17774</td>\n",
       "    </tr>\n",
       "    <tr>\n",
       "      <th>drinks</th>\n",
       "      <td>9726</td>\n",
       "    </tr>\n",
       "    <tr>\n",
       "      <th>entrance</th>\n",
       "      <td>7445</td>\n",
       "    </tr>\n",
       "    <tr>\n",
       "      <th>fruit</th>\n",
       "      <td>12708</td>\n",
       "    </tr>\n",
       "    <tr>\n",
       "      <th>spices</th>\n",
       "      <td>6278</td>\n",
       "    </tr>\n",
       "  </tbody>\n",
       "</table>\n",
       "</div>"
      ],
      "text/plain": [
       "          customer_no\n",
       "location             \n",
       "checkout         7445\n",
       "dairy           17774\n",
       "drinks           9726\n",
       "entrance         7445\n",
       "fruit           12708\n",
       "spices           6278"
      ]
     },
     "execution_count": 4,
     "metadata": {},
     "output_type": "execute_result"
    }
   ],
   "source": [
    "df_plot = df.groupby(\"location\")[[\"customer_no\"]].count()\n",
    "df_plot"
   ]
  },
  {
   "cell_type": "code",
   "execution_count": 5,
   "metadata": {},
   "outputs": [
    {
     "data": {
      "image/png": "[encoded data removed]",
      "text/plain": [
       "<Figure size 640x480 with 1 Axes>"
      ]
     },
     "metadata": {},
     "output_type": "display_data"
    }
   ],
   "source": [
    "sns.countplot(x=\"location\", data=df, palette=\"magma\")\n",
    "plt.title(\"Total number of customers in each section\")\n",
    "sns.despine()\n",
    "plt.show();\n"
   ]
  },
  {
   "attachments": {},
   "cell_type": "markdown",
   "metadata": {},
   "source": [
    "\n",
    "### Calculate the total number of customers in each section over time\n"
   ]
  },
  {
   "cell_type": "code",
   "execution_count": 6,
   "metadata": {},
   "outputs": [
    {
     "data": {
      "text/html": [
       "<div>\n",
       "<style scoped>\n",
       "    .dataframe tbody tr th:only-of-type {\n",
       "        vertical-align: middle;\n",
       "    }\n",
       "\n",
       "    .dataframe tbody tr th {\n",
       "        vertical-align: top;\n",
       "    }\n",
       "\n",
       "    .dataframe thead th {\n",
       "        text-align: right;\n",
       "    }\n",
       "</style>\n",
       "<table border=\"1\" class=\"dataframe\">\n",
       "  <thead>\n",
       "    <tr style=\"text-align: right;\">\n",
       "      <th></th>\n",
       "      <th>location</th>\n",
       "      <th>customer_no</th>\n",
       "    </tr>\n",
       "    <tr>\n",
       "      <th>timestamp</th>\n",
       "      <th></th>\n",
       "      <th></th>\n",
       "    </tr>\n",
       "  </thead>\n",
       "  <tbody>\n",
       "    <tr>\n",
       "      <th>2019-09-06 17:00:00</th>\n",
       "      <td>spices</td>\n",
       "      <td>100</td>\n",
       "    </tr>\n",
       "    <tr>\n",
       "      <th>2019-09-06 18:00:00</th>\n",
       "      <td>spices</td>\n",
       "      <td>140</td>\n",
       "    </tr>\n",
       "    <tr>\n",
       "      <th>2019-09-06 19:00:00</th>\n",
       "      <td>spices</td>\n",
       "      <td>106</td>\n",
       "    </tr>\n",
       "    <tr>\n",
       "      <th>2019-09-06 20:00:00</th>\n",
       "      <td>spices</td>\n",
       "      <td>105</td>\n",
       "    </tr>\n",
       "    <tr>\n",
       "      <th>2019-09-06 21:00:00</th>\n",
       "      <td>spices</td>\n",
       "      <td>37</td>\n",
       "    </tr>\n",
       "  </tbody>\n",
       "</table>\n",
       "</div>"
      ],
      "text/plain": [
       "                    location  customer_no\n",
       "timestamp                                \n",
       "2019-09-06 17:00:00   spices          100\n",
       "2019-09-06 18:00:00   spices          140\n",
       "2019-09-06 19:00:00   spices          106\n",
       "2019-09-06 20:00:00   spices          105\n",
       "2019-09-06 21:00:00   spices           37"
      ]
     },
     "execution_count": 6,
     "metadata": {},
     "output_type": "execute_result"
    }
   ],
   "source": [
    "location_by_hour = (\n",
    "    df.set_index(\"timestamp\")\n",
    "    .groupby(\"location\")[[\"customer_no\"]]\n",
    "    .resample(\"H\")\n",
    "    .count()\n",
    "    .reset_index()\n",
    "    .set_index(\"timestamp\")\n",
    ")\n",
    "location_by_hour.tail()"
   ]
  },
  {
   "cell_type": "code",
   "execution_count": 7,
   "metadata": {},
   "outputs": [
    {
     "data": {
      "application/vnd.plotly.v1+json": {
       "config": {
        "plotlyServerURL": "https://plot.ly"
       },
       "data": [
        {
         "hovertemplate": "location=checkout<br>timestamp=%{x}<br>customer_no=%{y}<extra></extra>",
         "legendgroup": "checkout",
         "line": {
          "color": "#636efa",
          "dash": "solid"
         },
         "marker": {
          "symbol": "circle"
         },
         "mode": "lines",
         "name": "checkout",
         "orientation": "v",
         "showlegend": true,
         "type": "scatter",
         "x": [
          "2019-09-02T07:00:00",
          "2019-09-02T08:00:00",
          "2019-09-02T09:00:00",
          "2019-09-02T10:00:00",
          "2019-09-02T11:00:00",
          "2019-09-02T12:00:00",
          "2019-09-02T13:00:00",
          "2019-09-02T14:00:00",
          "2019-09-02T15:00:00",
          "2019-09-02T16:00:00",
          "2019-09-02T17:00:00",
          "2019-09-02T18:00:00",
          "2019-09-02T19:00:00",
          "2019-09-02T20:00:00",
          "2019-09-02T21:00:00",
          "2019-09-02T22:00:00",
          "2019-09-02T23:00:00",
          "2019-09-03T00:00:00",
          "2019-09-03T01:00:00",
          "2019-09-03T02:00:00",
          "2019-09-03T03:00:00",
          "2019-09-03T04:00:00",
          "2019-09-03T05:00:00",
          "2019-09-03T06:00:00",
          "2019-09-03T07:00:00",
          "2019-09-03T08:00:00",
          "2019-09-03T09:00:00",
          "2019-09-03T10:00:00",
          "2019-09-03T11:00:00",
          "2019-09-03T12:00:00",
          "2019-09-03T13:00:00",
          "2019-09-03T14:00:00",
          "2019-09-03T15:00:00",
          "2019-09-03T16:00:00",
          "2019-09-03T17:00:00",
          "2019-09-03T18:00:00",
          "2019-09-03T19:00:00",
          "2019-09-03T20:00:00",
          "2019-09-03T21:00:00",
          "2019-09-03T22:00:00",
          "2019-09-03T23:00:00",
          "2019-09-04T00:00:00",
          "2019-09-04T01:00:00",
          "2019-09-04T02:00:00",
          "2019-09-04T03:00:00",
          "2019-09-04T04:00:00",
          "2019-09-04T05:00:00",
          "2019-09-04T06:00:00",
          "2019-09-04T07:00:00",
          "2019-09-04T08:00:00",
          "2019-09-04T09:00:00",
          "2019-09-04T10:00:00",
          "2019-09-04T11:00:00",
          "2019-09-04T12:00:00",
          "2019-09-04T13:00:00",
          "2019-09-04T14:00:00",
          "2019-09-04T15:00:00",
          "2019-09-04T16:00:00",
          "2019-09-04T17:00:00",
          "2019-09-04T18:00:00",
          "2019-09-04T19:00:00",
          "2019-09-04T20:00:00",
          "2019-09-04T21:00:00",
          "2019-09-04T22:00:00",
          "2019-09-04T23:00:00",
          "2019-09-05T00:00:00",
          "2019-09-05T01:00:00",
          "2019-09-05T02:00:00",
          "2019-09-05T03:00:00",
          "2019-09-05T04:00:00",
          "2019-09-05T05:00:00",
          "2019-09-05T06:00:00",
          "2019-09-05T07:00:00",
          "2019-09-05T08:00:00",
          "2019-09-05T09:00:00",
          "2019-09-05T10:00:00",
          "2019-09-05T11:00:00",
          "2019-09-05T12:00:00",
          "2019-09-05T13:00:00",
          "2019-09-05T14:00:00",
          "2019-09-05T15:00:00",
          "2019-09-05T16:00:00",
          "2019-09-05T17:00:00",
          "2019-09-05T18:00:00",
          "2019-09-05T19:00:00",
          "2019-09-05T20:00:00",
          "2019-09-05T21:00:00",
          "2019-09-05T22:00:00",
          "2019-09-05T23:00:00",
          "2019-09-06T00:00:00",
          "2019-09-06T01:00:00",
          "2019-09-06T02:00:00",
          "2019-09-06T03:00:00",
          "2019-09-06T04:00:00",
          "2019-09-06T05:00:00",
          "2019-09-06T06:00:00",
          "2019-09-06T07:00:00",
          "2019-09-06T08:00:00",
          "2019-09-06T09:00:00",
          "2019-09-06T10:00:00",
          "2019-09-06T11:00:00",
          "2019-09-06T12:00:00",
          "2019-09-06T13:00:00",
          "2019-09-06T14:00:00",
          "2019-09-06T15:00:00",
          "2019-09-06T16:00:00",
          "2019-09-06T17:00:00",
          "2019-09-06T18:00:00",
          "2019-09-06T19:00:00",
          "2019-09-06T20:00:00",
          "2019-09-06T21:00:00"
         ],
         "xaxis": "x",
         "y": [
          92,
          112,
          85,
          90,
          55,
          73,
          120,
          90,
          94,
          86,
          122,
          128,
          129,
          109,
          62,
          0,
          0,
          0,
          0,
          0,
          0,
          0,
          0,
          0,
          91,
          129,
          77,
          81,
          47,
          60,
          104,
          110,
          72,
          118,
          109,
          134,
          127,
          99,
          64,
          0,
          0,
          0,
          0,
          0,
          0,
          0,
          0,
          0,
          85,
          165,
          106,
          85,
          88,
          89,
          102,
          105,
          79,
          94,
          98,
          97,
          192,
          85,
          61,
          0,
          0,
          0,
          0,
          0,
          0,
          0,
          0,
          0,
          99,
          139,
          105,
          91,
          73,
          72,
          80,
          83,
          86,
          118,
          112,
          123,
          172,
          96,
          86,
          0,
          0,
          0,
          0,
          0,
          0,
          0,
          0,
          0,
          87,
          132,
          82,
          80,
          79,
          90,
          108,
          108,
          81,
          102,
          115,
          148,
          135,
          103,
          60
         ],
         "yaxis": "y"
        },
        {
         "hovertemplate": "location=dairy<br>timestamp=%{x}<br>customer_no=%{y}<extra></extra>",
         "legendgroup": "dairy",
         "line": {
          "color": "#EF553B",
          "dash": "solid"
         },
         "marker": {
          "symbol": "circle"
         },
         "mode": "lines",
         "name": "dairy",
         "orientation": "v",
         "showlegend": true,
         "type": "scatter",
         "x": [
          "2019-09-02T07:00:00",
          "2019-09-02T08:00:00",
          "2019-09-02T09:00:00",
          "2019-09-02T10:00:00",
          "2019-09-02T11:00:00",
          "2019-09-02T12:00:00",
          "2019-09-02T13:00:00",
          "2019-09-02T14:00:00",
          "2019-09-02T15:00:00",
          "2019-09-02T16:00:00",
          "2019-09-02T17:00:00",
          "2019-09-02T18:00:00",
          "2019-09-02T19:00:00",
          "2019-09-02T20:00:00",
          "2019-09-02T21:00:00",
          "2019-09-02T22:00:00",
          "2019-09-02T23:00:00",
          "2019-09-03T00:00:00",
          "2019-09-03T01:00:00",
          "2019-09-03T02:00:00",
          "2019-09-03T03:00:00",
          "2019-09-03T04:00:00",
          "2019-09-03T05:00:00",
          "2019-09-03T06:00:00",
          "2019-09-03T07:00:00",
          "2019-09-03T08:00:00",
          "2019-09-03T09:00:00",
          "2019-09-03T10:00:00",
          "2019-09-03T11:00:00",
          "2019-09-03T12:00:00",
          "2019-09-03T13:00:00",
          "2019-09-03T14:00:00",
          "2019-09-03T15:00:00",
          "2019-09-03T16:00:00",
          "2019-09-03T17:00:00",
          "2019-09-03T18:00:00",
          "2019-09-03T19:00:00",
          "2019-09-03T20:00:00",
          "2019-09-03T21:00:00",
          "2019-09-03T22:00:00",
          "2019-09-03T23:00:00",
          "2019-09-04T00:00:00",
          "2019-09-04T01:00:00",
          "2019-09-04T02:00:00",
          "2019-09-04T03:00:00",
          "2019-09-04T04:00:00",
          "2019-09-04T05:00:00",
          "2019-09-04T06:00:00",
          "2019-09-04T07:00:00",
          "2019-09-04T08:00:00",
          "2019-09-04T09:00:00",
          "2019-09-04T10:00:00",
          "2019-09-04T11:00:00",
          "2019-09-04T12:00:00",
          "2019-09-04T13:00:00",
          "2019-09-04T14:00:00",
          "2019-09-04T15:00:00",
          "2019-09-04T16:00:00",
          "2019-09-04T17:00:00",
          "2019-09-04T18:00:00",
          "2019-09-04T19:00:00",
          "2019-09-04T20:00:00",
          "2019-09-04T21:00:00",
          "2019-09-04T22:00:00",
          "2019-09-04T23:00:00",
          "2019-09-05T00:00:00",
          "2019-09-05T01:00:00",
          "2019-09-05T02:00:00",
          "2019-09-05T03:00:00",
          "2019-09-05T04:00:00",
          "2019-09-05T05:00:00",
          "2019-09-05T06:00:00",
          "2019-09-05T07:00:00",
          "2019-09-05T08:00:00",
          "2019-09-05T09:00:00",
          "2019-09-05T10:00:00",
          "2019-09-05T11:00:00",
          "2019-09-05T12:00:00",
          "2019-09-05T13:00:00",
          "2019-09-05T14:00:00",
          "2019-09-05T15:00:00",
          "2019-09-05T16:00:00",
          "2019-09-05T17:00:00",
          "2019-09-05T18:00:00",
          "2019-09-05T19:00:00",
          "2019-09-05T20:00:00",
          "2019-09-05T21:00:00",
          "2019-09-05T22:00:00",
          "2019-09-05T23:00:00",
          "2019-09-06T00:00:00",
          "2019-09-06T01:00:00",
          "2019-09-06T02:00:00",
          "2019-09-06T03:00:00",
          "2019-09-06T04:00:00",
          "2019-09-06T05:00:00",
          "2019-09-06T06:00:00",
          "2019-09-06T07:00:00",
          "2019-09-06T08:00:00",
          "2019-09-06T09:00:00",
          "2019-09-06T10:00:00",
          "2019-09-06T11:00:00",
          "2019-09-06T12:00:00",
          "2019-09-06T13:00:00",
          "2019-09-06T14:00:00",
          "2019-09-06T15:00:00",
          "2019-09-06T16:00:00",
          "2019-09-06T17:00:00",
          "2019-09-06T18:00:00",
          "2019-09-06T19:00:00",
          "2019-09-06T20:00:00",
          "2019-09-06T21:00:00"
         ],
         "xaxis": "x",
         "y": [
          209,
          260,
          196,
          266,
          127,
          230,
          323,
          246,
          297,
          180,
          274,
          300,
          257,
          252,
          78,
          0,
          0,
          0,
          0,
          0,
          0,
          0,
          0,
          0,
          205,
          374,
          180,
          199,
          105,
          164,
          243,
          211,
          207,
          291,
          293,
          344,
          304,
          231,
          111,
          0,
          0,
          0,
          0,
          0,
          0,
          0,
          0,
          0,
          181,
          361,
          418,
          231,
          228,
          148,
          270,
          301,
          129,
          240,
          224,
          218,
          425,
          179,
          88,
          0,
          0,
          0,
          0,
          0,
          0,
          0,
          0,
          0,
          197,
          334,
          220,
          283,
          160,
          217,
          205,
          237,
          193,
          301,
          273,
          284,
          432,
          209,
          160,
          0,
          0,
          0,
          0,
          0,
          0,
          0,
          0,
          0,
          150,
          371,
          185,
          249,
          197,
          152,
          285,
          295,
          161,
          192,
          245,
          413,
          296,
          176,
          104
         ],
         "yaxis": "y"
        },
        {
         "hovertemplate": "location=drinks<br>timestamp=%{x}<br>customer_no=%{y}<extra></extra>",
         "legendgroup": "drinks",
         "line": {
          "color": "#00cc96",
          "dash": "solid"
         },
         "marker": {
          "symbol": "circle"
         },
         "mode": "lines",
         "name": "drinks",
         "orientation": "v",
         "showlegend": true,
         "type": "scatter",
         "x": [
          "2019-09-02T07:00:00",
          "2019-09-02T08:00:00",
          "2019-09-02T09:00:00",
          "2019-09-02T10:00:00",
          "2019-09-02T11:00:00",
          "2019-09-02T12:00:00",
          "2019-09-02T13:00:00",
          "2019-09-02T14:00:00",
          "2019-09-02T15:00:00",
          "2019-09-02T16:00:00",
          "2019-09-02T17:00:00",
          "2019-09-02T18:00:00",
          "2019-09-02T19:00:00",
          "2019-09-02T20:00:00",
          "2019-09-02T21:00:00",
          "2019-09-02T22:00:00",
          "2019-09-02T23:00:00",
          "2019-09-03T00:00:00",
          "2019-09-03T01:00:00",
          "2019-09-03T02:00:00",
          "2019-09-03T03:00:00",
          "2019-09-03T04:00:00",
          "2019-09-03T05:00:00",
          "2019-09-03T06:00:00",
          "2019-09-03T07:00:00",
          "2019-09-03T08:00:00",
          "2019-09-03T09:00:00",
          "2019-09-03T10:00:00",
          "2019-09-03T11:00:00",
          "2019-09-03T12:00:00",
          "2019-09-03T13:00:00",
          "2019-09-03T14:00:00",
          "2019-09-03T15:00:00",
          "2019-09-03T16:00:00",
          "2019-09-03T17:00:00",
          "2019-09-03T18:00:00",
          "2019-09-03T19:00:00",
          "2019-09-03T20:00:00",
          "2019-09-03T21:00:00",
          "2019-09-03T22:00:00",
          "2019-09-03T23:00:00",
          "2019-09-04T00:00:00",
          "2019-09-04T01:00:00",
          "2019-09-04T02:00:00",
          "2019-09-04T03:00:00",
          "2019-09-04T04:00:00",
          "2019-09-04T05:00:00",
          "2019-09-04T06:00:00",
          "2019-09-04T07:00:00",
          "2019-09-04T08:00:00",
          "2019-09-04T09:00:00",
          "2019-09-04T10:00:00",
          "2019-09-04T11:00:00",
          "2019-09-04T12:00:00",
          "2019-09-04T13:00:00",
          "2019-09-04T14:00:00",
          "2019-09-04T15:00:00",
          "2019-09-04T16:00:00",
          "2019-09-04T17:00:00",
          "2019-09-04T18:00:00",
          "2019-09-04T19:00:00",
          "2019-09-04T20:00:00",
          "2019-09-04T21:00:00",
          "2019-09-04T22:00:00",
          "2019-09-04T23:00:00",
          "2019-09-05T00:00:00",
          "2019-09-05T01:00:00",
          "2019-09-05T02:00:00",
          "2019-09-05T03:00:00",
          "2019-09-05T04:00:00",
          "2019-09-05T05:00:00",
          "2019-09-05T06:00:00",
          "2019-09-05T07:00:00",
          "2019-09-05T08:00:00",
          "2019-09-05T09:00:00",
          "2019-09-05T10:00:00",
          "2019-09-05T11:00:00",
          "2019-09-05T12:00:00",
          "2019-09-05T13:00:00",
          "2019-09-05T14:00:00",
          "2019-09-05T15:00:00",
          "2019-09-05T16:00:00",
          "2019-09-05T17:00:00",
          "2019-09-05T18:00:00",
          "2019-09-05T19:00:00",
          "2019-09-05T20:00:00",
          "2019-09-05T21:00:00",
          "2019-09-05T22:00:00",
          "2019-09-05T23:00:00",
          "2019-09-06T00:00:00",
          "2019-09-06T01:00:00",
          "2019-09-06T02:00:00",
          "2019-09-06T03:00:00",
          "2019-09-06T04:00:00",
          "2019-09-06T05:00:00",
          "2019-09-06T06:00:00",
          "2019-09-06T07:00:00",
          "2019-09-06T08:00:00",
          "2019-09-06T09:00:00",
          "2019-09-06T10:00:00",
          "2019-09-06T11:00:00",
          "2019-09-06T12:00:00",
          "2019-09-06T13:00:00",
          "2019-09-06T14:00:00",
          "2019-09-06T15:00:00",
          "2019-09-06T16:00:00",
          "2019-09-06T17:00:00",
          "2019-09-06T18:00:00",
          "2019-09-06T19:00:00",
          "2019-09-06T20:00:00",
          "2019-09-06T21:00:00"
         ],
         "xaxis": "x",
         "y": [
          171,
          161,
          160,
          94,
          60,
          97,
          123,
          87,
          114,
          133,
          156,
          216,
          171,
          218,
          86,
          0,
          0,
          0,
          0,
          0,
          0,
          0,
          0,
          0,
          164,
          146,
          91,
          87,
          41,
          58,
          86,
          124,
          63,
          133,
          110,
          174,
          196,
          116,
          139,
          0,
          0,
          0,
          0,
          0,
          0,
          0,
          0,
          0,
          154,
          199,
          134,
          92,
          80,
          113,
          130,
          119,
          78,
          120,
          82,
          103,
          315,
          152,
          82,
          0,
          0,
          0,
          0,
          0,
          0,
          0,
          0,
          0,
          104,
          130,
          98,
          85,
          91,
          75,
          126,
          104,
          89,
          158,
          154,
          193,
          187,
          177,
          104,
          0,
          0,
          0,
          0,
          0,
          0,
          0,
          0,
          0,
          138,
          178,
          109,
          92,
          120,
          122,
          122,
          150,
          108,
          142,
          185,
          211,
          202,
          161,
          83
         ],
         "yaxis": "y"
        },
        {
         "hovertemplate": "location=entrance<br>timestamp=%{x}<br>customer_no=%{y}<extra></extra>",
         "legendgroup": "entrance",
         "line": {
          "color": "#ab63fa",
          "dash": "solid"
         },
         "marker": {
          "symbol": "circle"
         },
         "mode": "lines",
         "name": "entrance",
         "orientation": "v",
         "showlegend": true,
         "type": "scatter",
         "x": [
          "2019-09-02T07:00:00",
          "2019-09-02T08:00:00",
          "2019-09-02T09:00:00",
          "2019-09-02T10:00:00",
          "2019-09-02T11:00:00",
          "2019-09-02T12:00:00",
          "2019-09-02T13:00:00",
          "2019-09-02T14:00:00",
          "2019-09-02T15:00:00",
          "2019-09-02T16:00:00",
          "2019-09-02T17:00:00",
          "2019-09-02T18:00:00",
          "2019-09-02T19:00:00",
          "2019-09-02T20:00:00",
          "2019-09-02T21:00:00",
          "2019-09-02T22:00:00",
          "2019-09-02T23:00:00",
          "2019-09-03T00:00:00",
          "2019-09-03T01:00:00",
          "2019-09-03T02:00:00",
          "2019-09-03T03:00:00",
          "2019-09-03T04:00:00",
          "2019-09-03T05:00:00",
          "2019-09-03T06:00:00",
          "2019-09-03T07:00:00",
          "2019-09-03T08:00:00",
          "2019-09-03T09:00:00",
          "2019-09-03T10:00:00",
          "2019-09-03T11:00:00",
          "2019-09-03T12:00:00",
          "2019-09-03T13:00:00",
          "2019-09-03T14:00:00",
          "2019-09-03T15:00:00",
          "2019-09-03T16:00:00",
          "2019-09-03T17:00:00",
          "2019-09-03T18:00:00",
          "2019-09-03T19:00:00",
          "2019-09-03T20:00:00",
          "2019-09-03T21:00:00",
          "2019-09-03T22:00:00",
          "2019-09-03T23:00:00",
          "2019-09-04T00:00:00",
          "2019-09-04T01:00:00",
          "2019-09-04T02:00:00",
          "2019-09-04T03:00:00",
          "2019-09-04T04:00:00",
          "2019-09-04T05:00:00",
          "2019-09-04T06:00:00",
          "2019-09-04T07:00:00",
          "2019-09-04T08:00:00",
          "2019-09-04T09:00:00",
          "2019-09-04T10:00:00",
          "2019-09-04T11:00:00",
          "2019-09-04T12:00:00",
          "2019-09-04T13:00:00",
          "2019-09-04T14:00:00",
          "2019-09-04T15:00:00",
          "2019-09-04T16:00:00",
          "2019-09-04T17:00:00",
          "2019-09-04T18:00:00",
          "2019-09-04T19:00:00",
          "2019-09-04T20:00:00",
          "2019-09-04T21:00:00",
          "2019-09-04T22:00:00",
          "2019-09-04T23:00:00",
          "2019-09-05T00:00:00",
          "2019-09-05T01:00:00",
          "2019-09-05T02:00:00",
          "2019-09-05T03:00:00",
          "2019-09-05T04:00:00",
          "2019-09-05T05:00:00",
          "2019-09-05T06:00:00",
          "2019-09-05T07:00:00",
          "2019-09-05T08:00:00",
          "2019-09-05T09:00:00",
          "2019-09-05T10:00:00",
          "2019-09-05T11:00:00",
          "2019-09-05T12:00:00",
          "2019-09-05T13:00:00",
          "2019-09-05T14:00:00",
          "2019-09-05T15:00:00",
          "2019-09-05T16:00:00",
          "2019-09-05T17:00:00",
          "2019-09-05T18:00:00",
          "2019-09-05T19:00:00",
          "2019-09-05T20:00:00",
          "2019-09-05T21:00:00",
          "2019-09-05T22:00:00",
          "2019-09-05T23:00:00",
          "2019-09-06T00:00:00",
          "2019-09-06T01:00:00",
          "2019-09-06T02:00:00",
          "2019-09-06T03:00:00",
          "2019-09-06T04:00:00",
          "2019-09-06T05:00:00",
          "2019-09-06T06:00:00",
          "2019-09-06T07:00:00",
          "2019-09-06T08:00:00",
          "2019-09-06T09:00:00",
          "2019-09-06T10:00:00",
          "2019-09-06T11:00:00",
          "2019-09-06T12:00:00",
          "2019-09-06T13:00:00",
          "2019-09-06T14:00:00",
          "2019-09-06T15:00:00",
          "2019-09-06T16:00:00",
          "2019-09-06T17:00:00",
          "2019-09-06T18:00:00",
          "2019-09-06T19:00:00",
          "2019-09-06T20:00:00",
          "2019-09-06T21:00:00"
         ],
         "xaxis": "x",
         "y": [
          102,
          114,
          87,
          81,
          55,
          83,
          115,
          91,
          89,
          97,
          119,
          135,
          119,
          107,
          53,
          0,
          0,
          0,
          0,
          0,
          0,
          0,
          0,
          0,
          104,
          124,
          77,
          81,
          44,
          62,
          111,
          102,
          74,
          120,
          114,
          132,
          129,
          91,
          57,
          0,
          0,
          0,
          0,
          0,
          0,
          0,
          0,
          6,
          86,
          174,
          112,
          73,
          84,
          88,
          114,
          99,
          75,
          101,
          88,
          103,
          198,
          76,
          54,
          0,
          0,
          0,
          0,
          0,
          0,
          0,
          0,
          1,
          108,
          147,
          100,
          88,
          73,
          79,
          72,
          97,
          75,
          122,
          111,
          136,
          154,
          113,
          59,
          0,
          0,
          0,
          0,
          0,
          0,
          0,
          0,
          3,
          91,
          148,
          73,
          74,
          82,
          86,
          116,
          100,
          86,
          99,
          122,
          147,
          140,
          92,
          51
         ],
         "yaxis": "y"
        },
        {
         "hovertemplate": "location=fruit<br>timestamp=%{x}<br>customer_no=%{y}<extra></extra>",
         "legendgroup": "fruit",
         "line": {
          "color": "#FFA15A",
          "dash": "solid"
         },
         "marker": {
          "symbol": "circle"
         },
         "mode": "lines",
         "name": "fruit",
         "orientation": "v",
         "showlegend": true,
         "type": "scatter",
         "x": [
          "2019-09-02T07:00:00",
          "2019-09-02T08:00:00",
          "2019-09-02T09:00:00",
          "2019-09-02T10:00:00",
          "2019-09-02T11:00:00",
          "2019-09-02T12:00:00",
          "2019-09-02T13:00:00",
          "2019-09-02T14:00:00",
          "2019-09-02T15:00:00",
          "2019-09-02T16:00:00",
          "2019-09-02T17:00:00",
          "2019-09-02T18:00:00",
          "2019-09-02T19:00:00",
          "2019-09-02T20:00:00",
          "2019-09-02T21:00:00",
          "2019-09-02T22:00:00",
          "2019-09-02T23:00:00",
          "2019-09-03T00:00:00",
          "2019-09-03T01:00:00",
          "2019-09-03T02:00:00",
          "2019-09-03T03:00:00",
          "2019-09-03T04:00:00",
          "2019-09-03T05:00:00",
          "2019-09-03T06:00:00",
          "2019-09-03T07:00:00",
          "2019-09-03T08:00:00",
          "2019-09-03T09:00:00",
          "2019-09-03T10:00:00",
          "2019-09-03T11:00:00",
          "2019-09-03T12:00:00",
          "2019-09-03T13:00:00",
          "2019-09-03T14:00:00",
          "2019-09-03T15:00:00",
          "2019-09-03T16:00:00",
          "2019-09-03T17:00:00",
          "2019-09-03T18:00:00",
          "2019-09-03T19:00:00",
          "2019-09-03T20:00:00",
          "2019-09-03T21:00:00",
          "2019-09-03T22:00:00",
          "2019-09-03T23:00:00",
          "2019-09-04T00:00:00",
          "2019-09-04T01:00:00",
          "2019-09-04T02:00:00",
          "2019-09-04T03:00:00",
          "2019-09-04T04:00:00",
          "2019-09-04T05:00:00",
          "2019-09-04T06:00:00",
          "2019-09-04T07:00:00",
          "2019-09-04T08:00:00",
          "2019-09-04T09:00:00",
          "2019-09-04T10:00:00",
          "2019-09-04T11:00:00",
          "2019-09-04T12:00:00",
          "2019-09-04T13:00:00",
          "2019-09-04T14:00:00",
          "2019-09-04T15:00:00",
          "2019-09-04T16:00:00",
          "2019-09-04T17:00:00",
          "2019-09-04T18:00:00",
          "2019-09-04T19:00:00",
          "2019-09-04T20:00:00",
          "2019-09-04T21:00:00",
          "2019-09-04T22:00:00",
          "2019-09-04T23:00:00",
          "2019-09-05T00:00:00",
          "2019-09-05T01:00:00",
          "2019-09-05T02:00:00",
          "2019-09-05T03:00:00",
          "2019-09-05T04:00:00",
          "2019-09-05T05:00:00",
          "2019-09-05T06:00:00",
          "2019-09-05T07:00:00",
          "2019-09-05T08:00:00",
          "2019-09-05T09:00:00",
          "2019-09-05T10:00:00",
          "2019-09-05T11:00:00",
          "2019-09-05T12:00:00",
          "2019-09-05T13:00:00",
          "2019-09-05T14:00:00",
          "2019-09-05T15:00:00",
          "2019-09-05T16:00:00",
          "2019-09-05T17:00:00",
          "2019-09-05T18:00:00",
          "2019-09-05T19:00:00",
          "2019-09-05T20:00:00",
          "2019-09-05T21:00:00",
          "2019-09-05T22:00:00",
          "2019-09-05T23:00:00",
          "2019-09-06T00:00:00",
          "2019-09-06T01:00:00",
          "2019-09-06T02:00:00",
          "2019-09-06T03:00:00",
          "2019-09-06T04:00:00",
          "2019-09-06T05:00:00",
          "2019-09-06T06:00:00",
          "2019-09-06T07:00:00",
          "2019-09-06T08:00:00",
          "2019-09-06T09:00:00",
          "2019-09-06T10:00:00",
          "2019-09-06T11:00:00",
          "2019-09-06T12:00:00",
          "2019-09-06T13:00:00",
          "2019-09-06T14:00:00",
          "2019-09-06T15:00:00",
          "2019-09-06T16:00:00",
          "2019-09-06T17:00:00",
          "2019-09-06T18:00:00",
          "2019-09-06T19:00:00",
          "2019-09-06T20:00:00",
          "2019-09-06T21:00:00"
         ],
         "xaxis": "x",
         "y": [
          136,
          200,
          186,
          134,
          89,
          127,
          257,
          148,
          227,
          159,
          259,
          194,
          212,
          156,
          74,
          0,
          0,
          0,
          0,
          0,
          0,
          0,
          0,
          0,
          145,
          260,
          132,
          116,
          70,
          83,
          227,
          157,
          133,
          226,
          195,
          229,
          164,
          118,
          97,
          0,
          0,
          0,
          0,
          0,
          0,
          0,
          0,
          0,
          117,
          248,
          199,
          117,
          149,
          134,
          161,
          175,
          161,
          147,
          184,
          148,
          336,
          125,
          75,
          0,
          0,
          0,
          0,
          0,
          0,
          0,
          0,
          0,
          160,
          235,
          174,
          180,
          107,
          125,
          178,
          133,
          156,
          196,
          211,
          231,
          269,
          173,
          128,
          0,
          0,
          0,
          0,
          0,
          0,
          0,
          0,
          0,
          177,
          251,
          170,
          123,
          169,
          137,
          161,
          196,
          127,
          175,
          217,
          272,
          254,
          165,
          72
         ],
         "yaxis": "y"
        },
        {
         "hovertemplate": "location=spices<br>timestamp=%{x}<br>customer_no=%{y}<extra></extra>",
         "legendgroup": "spices",
         "line": {
          "color": "#19d3f3",
          "dash": "solid"
         },
         "marker": {
          "symbol": "circle"
         },
         "mode": "lines",
         "name": "spices",
         "orientation": "v",
         "showlegend": true,
         "type": "scatter",
         "x": [
          "2019-09-02T07:00:00",
          "2019-09-02T08:00:00",
          "2019-09-02T09:00:00",
          "2019-09-02T10:00:00",
          "2019-09-02T11:00:00",
          "2019-09-02T12:00:00",
          "2019-09-02T13:00:00",
          "2019-09-02T14:00:00",
          "2019-09-02T15:00:00",
          "2019-09-02T16:00:00",
          "2019-09-02T17:00:00",
          "2019-09-02T18:00:00",
          "2019-09-02T19:00:00",
          "2019-09-02T20:00:00",
          "2019-09-02T21:00:00",
          "2019-09-02T22:00:00",
          "2019-09-02T23:00:00",
          "2019-09-03T00:00:00",
          "2019-09-03T01:00:00",
          "2019-09-03T02:00:00",
          "2019-09-03T03:00:00",
          "2019-09-03T04:00:00",
          "2019-09-03T05:00:00",
          "2019-09-03T06:00:00",
          "2019-09-03T07:00:00",
          "2019-09-03T08:00:00",
          "2019-09-03T09:00:00",
          "2019-09-03T10:00:00",
          "2019-09-03T11:00:00",
          "2019-09-03T12:00:00",
          "2019-09-03T13:00:00",
          "2019-09-03T14:00:00",
          "2019-09-03T15:00:00",
          "2019-09-03T16:00:00",
          "2019-09-03T17:00:00",
          "2019-09-03T18:00:00",
          "2019-09-03T19:00:00",
          "2019-09-03T20:00:00",
          "2019-09-03T21:00:00",
          "2019-09-03T22:00:00",
          "2019-09-03T23:00:00",
          "2019-09-04T00:00:00",
          "2019-09-04T01:00:00",
          "2019-09-04T02:00:00",
          "2019-09-04T03:00:00",
          "2019-09-04T04:00:00",
          "2019-09-04T05:00:00",
          "2019-09-04T06:00:00",
          "2019-09-04T07:00:00",
          "2019-09-04T08:00:00",
          "2019-09-04T09:00:00",
          "2019-09-04T10:00:00",
          "2019-09-04T11:00:00",
          "2019-09-04T12:00:00",
          "2019-09-04T13:00:00",
          "2019-09-04T14:00:00",
          "2019-09-04T15:00:00",
          "2019-09-04T16:00:00",
          "2019-09-04T17:00:00",
          "2019-09-04T18:00:00",
          "2019-09-04T19:00:00",
          "2019-09-04T20:00:00",
          "2019-09-04T21:00:00",
          "2019-09-04T22:00:00",
          "2019-09-04T23:00:00",
          "2019-09-05T00:00:00",
          "2019-09-05T01:00:00",
          "2019-09-05T02:00:00",
          "2019-09-05T03:00:00",
          "2019-09-05T04:00:00",
          "2019-09-05T05:00:00",
          "2019-09-05T06:00:00",
          "2019-09-05T07:00:00",
          "2019-09-05T08:00:00",
          "2019-09-05T09:00:00",
          "2019-09-05T10:00:00",
          "2019-09-05T11:00:00",
          "2019-09-05T12:00:00",
          "2019-09-05T13:00:00",
          "2019-09-05T14:00:00",
          "2019-09-05T15:00:00",
          "2019-09-05T16:00:00",
          "2019-09-05T17:00:00",
          "2019-09-05T18:00:00",
          "2019-09-05T19:00:00",
          "2019-09-05T20:00:00",
          "2019-09-05T21:00:00",
          "2019-09-05T22:00:00",
          "2019-09-05T23:00:00",
          "2019-09-06T00:00:00",
          "2019-09-06T01:00:00",
          "2019-09-06T02:00:00",
          "2019-09-06T03:00:00",
          "2019-09-06T04:00:00",
          "2019-09-06T05:00:00",
          "2019-09-06T06:00:00",
          "2019-09-06T07:00:00",
          "2019-09-06T08:00:00",
          "2019-09-06T09:00:00",
          "2019-09-06T10:00:00",
          "2019-09-06T11:00:00",
          "2019-09-06T12:00:00",
          "2019-09-06T13:00:00",
          "2019-09-06T14:00:00",
          "2019-09-06T15:00:00",
          "2019-09-06T16:00:00",
          "2019-09-06T17:00:00",
          "2019-09-06T18:00:00",
          "2019-09-06T19:00:00",
          "2019-09-06T20:00:00",
          "2019-09-06T21:00:00"
         ],
         "xaxis": "x",
         "y": [
          73,
          96,
          63,
          92,
          55,
          78,
          113,
          83,
          85,
          71,
          85,
          115,
          95,
          90,
          34,
          0,
          0,
          0,
          0,
          0,
          0,
          0,
          0,
          0,
          66,
          129,
          65,
          70,
          24,
          52,
          81,
          111,
          35,
          99,
          89,
          98,
          101,
          95,
          46,
          0,
          0,
          0,
          0,
          0,
          0,
          0,
          0,
          0,
          84,
          135,
          76,
          84,
          85,
          50,
          85,
          89,
          69,
          76,
          76,
          78,
          150,
          55,
          43,
          0,
          0,
          0,
          0,
          0,
          0,
          0,
          0,
          0,
          74,
          120,
          74,
          86,
          61,
          63,
          84,
          95,
          66,
          98,
          77,
          135,
          181,
          80,
          54,
          0,
          0,
          0,
          0,
          0,
          0,
          0,
          0,
          0,
          85,
          117,
          55,
          84,
          58,
          79,
          105,
          90,
          50,
          95,
          100,
          140,
          106,
          105,
          37
         ],
         "yaxis": "y"
        }
       ],
       "layout": {
        "legend": {
         "title": {
          "text": "location"
         },
         "tracegroupgap": 0
        },
        "template": {
         "data": {
          "bar": [
           {
            "error_x": {
             "color": "#2a3f5f"
            },
            "error_y": {
             "color": "#2a3f5f"
            },
            "marker": {
             "line": {
              "color": "#E5ECF6",
              "width": 0.5
             },
             "pattern": {
              "fillmode": "overlay",
              "size": 10,
              "solidity": 0.2
             }
            },
            "type": "bar"
           }
          ],
          "barpolar": [
           {
            "marker": {
             "line": {
              "color": "#E5ECF6",
              "width": 0.5
             },
             "pattern": {
              "fillmode": "overlay",
              "size": 10,
              "solidity": 0.2
             }
            },
            "type": "barpolar"
           }
          ],
          "carpet": [
           {
            "aaxis": {
             "endlinecolor": "#2a3f5f",
             "gridcolor": "white",
             "linecolor": "white",
             "minorgridcolor": "white",
             "startlinecolor": "#2a3f5f"
            },
            "baxis": {
             "endlinecolor": "#2a3f5f",
             "gridcolor": "white",
             "linecolor": "white",
             "minorgridcolor": "white",
             "startlinecolor": "#2a3f5f"
            },
            "type": "carpet"
           }
          ],
          "choropleth": [
           {
            "colorbar": {
             "outlinewidth": 0,
             "ticks": ""
            },
            "type": "choropleth"
           }
          ],
          "contour": [
           {
            "colorbar": {
             "outlinewidth": 0,
             "ticks": ""
            },
            "colorscale": [
             [
              0,
              "#0d0887"
             ],
             [
              0.1111111111111111,
              "#46039f"
             ],
             [
              0.2222222222222222,
              "#7201a8"
             ],
             [
              0.3333333333333333,
              "#9c179e"
             ],
             [
              0.4444444444444444,
              "#bd3786"
             ],
             [
              0.5555555555555556,
              "#d8576b"
             ],
             [
              0.6666666666666666,
              "#ed7953"
             ],
             [
              0.7777777777777778,
              "#fb9f3a"
             ],
             [
              0.8888888888888888,
              "#fdca26"
             ],
             [
              1,
              "#f0f921"
             ]
            ],
            "type": "contour"
           }
          ],
          "contourcarpet": [
           {
            "colorbar": {
             "outlinewidth": 0,
             "ticks": ""
            },
            "type": "contourcarpet"
           }
          ],
          "heatmap": [
           {
            "colorbar": {
             "outlinewidth": 0,
             "ticks": ""
            },
            "colorscale": [
             [
              0,
              "#0d0887"
             ],
             [
              0.1111111111111111,
              "#46039f"
             ],
             [
              0.2222222222222222,
              "#7201a8"
             ],
             [
              0.3333333333333333,
              "#9c179e"
             ],
             [
              0.4444444444444444,
              "#bd3786"
             ],
             [
              0.5555555555555556,
              "#d8576b"
             ],
             [
              0.6666666666666666,
              "#ed7953"
             ],
             [
              0.7777777777777778,
              "#fb9f3a"
             ],
             [
              0.8888888888888888,
              "#fdca26"
             ],
             [
              1,
              "#f0f921"
             ]
            ],
            "type": "heatmap"
           }
          ],
          "heatmapgl": [
           {
            "colorbar": {
             "outlinewidth": 0,
             "ticks": ""
            },
            "colorscale": [
             [
              0,
              "#0d0887"
             ],
             [
              0.1111111111111111,
              "#46039f"
             ],
             [
              0.2222222222222222,
              "#7201a8"
             ],
             [
              0.3333333333333333,
              "#9c179e"
             ],
             [
              0.4444444444444444,
              "#bd3786"
             ],
             [
              0.5555555555555556,
              "#d8576b"
             ],
             [
              0.6666666666666666,
              "#ed7953"
             ],
             [
              0.7777777777777778,
              "#fb9f3a"
             ],
             [
              0.8888888888888888,
              "#fdca26"
             ],
             [
              1,
              "#f0f921"
             ]
            ],
            "type": "heatmapgl"
           }
          ],
          "histogram": [
           {
            "marker": {
             "pattern": {
              "fillmode": "overlay",
              "size": 10,
              "solidity": 0.2
             }
            },
            "type": "histogram"
           }
          ],
          "histogram2d": [
           {
            "colorbar": {
             "outlinewidth": 0,
             "ticks": ""
            },
            "colorscale": [
             [
              0,
              "#0d0887"
             ],
             [
              0.1111111111111111,
              "#46039f"
             ],
             [
              0.2222222222222222,
              "#7201a8"
             ],
             [
              0.3333333333333333,
              "#9c179e"
             ],
             [
              0.4444444444444444,
              "#bd3786"
             ],
             [
              0.5555555555555556,
              "#d8576b"
             ],
             [
              0.6666666666666666,
              "#ed7953"
             ],
             [
              0.7777777777777778,
              "#fb9f3a"
             ],
             [
              0.8888888888888888,
              "#fdca26"
             ],
             [
              1,
              "#f0f921"
             ]
            ],
            "type": "histogram2d"
           }
          ],
          "histogram2dcontour": [
           {
            "colorbar": {
             "outlinewidth": 0,
             "ticks": ""
            },
            "colorscale": [
             [
              0,
              "#0d0887"
             ],
             [
              0.1111111111111111,
              "#46039f"
             ],
             [
              0.2222222222222222,
              "#7201a8"
             ],
             [
              0.3333333333333333,
              "#9c179e"
             ],
             [
              0.4444444444444444,
              "#bd3786"
             ],
             [
              0.5555555555555556,
              "#d8576b"
             ],
             [
              0.6666666666666666,
              "#ed7953"
             ],
             [
              0.7777777777777778,
              "#fb9f3a"
             ],
             [
              0.8888888888888888,
              "#fdca26"
             ],
             [
              1,
              "#f0f921"
             ]
            ],
            "type": "histogram2dcontour"
           }
          ],
          "mesh3d": [
           {
            "colorbar": {
             "outlinewidth": 0,
             "ticks": ""
            },
            "type": "mesh3d"
           }
          ],
          "parcoords": [
           {
            "line": {
             "colorbar": {
              "outlinewidth": 0,
              "ticks": ""
             }
            },
            "type": "parcoords"
           }
          ],
          "pie": [
           {
            "automargin": true,
            "type": "pie"
           }
          ],
          "scatter": [
           {
            "fillpattern": {
             "fillmode": "overlay",
             "size": 10,
             "solidity": 0.2
            },
            "type": "scatter"
           }
          ],
          "scatter3d": [
           {
            "line": {
             "colorbar": {
              "outlinewidth": 0,
              "ticks": ""
             }
            },
            "marker": {
             "colorbar": {
              "outlinewidth": 0,
              "ticks": ""
             }
            },
            "type": "scatter3d"
           }
          ],
          "scattercarpet": [
           {
            "marker": {
             "colorbar": {
              "outlinewidth": 0,
              "ticks": ""
             }
            },
            "type": "scattercarpet"
           }
          ],
          "scattergeo": [
           {
            "marker": {
             "colorbar": {
              "outlinewidth": 0,
              "ticks": ""
             }
            },
            "type": "scattergeo"
           }
          ],
          "scattergl": [
           {
            "marker": {
             "colorbar": {
              "outlinewidth": 0,
              "ticks": ""
             }
            },
            "type": "scattergl"
           }
          ],
          "scattermapbox": [
           {
            "marker": {
             "colorbar": {
              "outlinewidth": 0,
              "ticks": ""
             }
            },
            "type": "scattermapbox"
           }
          ],
          "scatterpolar": [
           {
            "marker": {
             "colorbar": {
              "outlinewidth": 0,
              "ticks": ""
             }
            },
            "type": "scatterpolar"
           }
          ],
          "scatterpolargl": [
           {
            "marker": {
             "colorbar": {
              "outlinewidth": 0,
              "ticks": ""
             }
            },
            "type": "scatterpolargl"
           }
          ],
          "scatterternary": [
           {
            "marker": {
             "colorbar": {
              "outlinewidth": 0,
              "ticks": ""
             }
            },
            "type": "scatterternary"
           }
          ],
          "surface": [
           {
            "colorbar": {
             "outlinewidth": 0,
             "ticks": ""
            },
            "colorscale": [
             [
              0,
              "#0d0887"
             ],
             [
              0.1111111111111111,
              "#46039f"
             ],
             [
              0.2222222222222222,
              "#7201a8"
             ],
             [
              0.3333333333333333,
              "#9c179e"
             ],
             [
              0.4444444444444444,
              "#bd3786"
             ],
             [
              0.5555555555555556,
              "#d8576b"
             ],
             [
              0.6666666666666666,
              "#ed7953"
             ],
             [
              0.7777777777777778,
              "#fb9f3a"
             ],
             [
              0.8888888888888888,
              "#fdca26"
             ],
             [
              1,
              "#f0f921"
             ]
            ],
            "type": "surface"
           }
          ],
          "table": [
           {
            "cells": {
             "fill": {
              "color": "#EBF0F8"
             },
             "line": {
              "color": "white"
             }
            },
            "header": {
             "fill": {
              "color": "#C8D4E3"
             },
             "line": {
              "color": "white"
             }
            },
            "type": "table"
           }
          ]
         },
         "layout": {
          "annotationdefaults": {
           "arrowcolor": "#2a3f5f",
           "arrowhead": 0,
           "arrowwidth": 1
          },
          "autotypenumbers": "strict",
          "coloraxis": {
           "colorbar": {
            "outlinewidth": 0,
            "ticks": ""
           }
          },
          "colorscale": {
           "diverging": [
            [
             0,
             "#8e0152"
            ],
            [
             0.1,
             "#c51b7d"
            ],
            [
             0.2,
             "#de77ae"
            ],
            [
             0.3,
             "#f1b6da"
            ],
            [
             0.4,
             "#fde0ef"
            ],
            [
             0.5,
             "#f7f7f7"
            ],
            [
             0.6,
             "#e6f5d0"
            ],
            [
             0.7,
             "#b8e186"
            ],
            [
             0.8,
             "#7fbc41"
            ],
            [
             0.9,
             "#4d9221"
            ],
            [
             1,
             "#276419"
            ]
           ],
           "sequential": [
            [
             0,
             "#0d0887"
            ],
            [
             0.1111111111111111,
             "#46039f"
            ],
            [
             0.2222222222222222,
             "#7201a8"
            ],
            [
             0.3333333333333333,
             "#9c179e"
            ],
            [
             0.4444444444444444,
             "#bd3786"
            ],
            [
             0.5555555555555556,
             "#d8576b"
            ],
            [
             0.6666666666666666,
             "#ed7953"
            ],
            [
             0.7777777777777778,
             "#fb9f3a"
            ],
            [
             0.8888888888888888,
             "#fdca26"
            ],
            [
             1,
             "#f0f921"
            ]
           ],
           "sequentialminus": [
            [
             0,
             "#0d0887"
            ],
            [
             0.1111111111111111,
             "#46039f"
            ],
            [
             0.2222222222222222,
             "#7201a8"
            ],
            [
             0.3333333333333333,
             "#9c179e"
            ],
            [
             0.4444444444444444,
             "#bd3786"
            ],
            [
             0.5555555555555556,
             "#d8576b"
            ],
            [
             0.6666666666666666,
             "#ed7953"
            ],
            [
             0.7777777777777778,
             "#fb9f3a"
            ],
            [
             0.8888888888888888,
             "#fdca26"
            ],
            [
             1,
             "#f0f921"
            ]
           ]
          },
          "colorway": [
           "#636efa",
           "#EF553B",
           "#00cc96",
           "#ab63fa",
           "#FFA15A",
           "#19d3f3",
           "#FF6692",
           "#B6E880",
           "#FF97FF",
           "#FECB52"
          ],
          "font": {
           "color": "#2a3f5f"
          },
          "geo": {
           "bgcolor": "white",
           "lakecolor": "white",
           "landcolor": "#E5ECF6",
           "showlakes": true,
           "showland": true,
           "subunitcolor": "white"
          },
          "hoverlabel": {
           "align": "left"
          },
          "hovermode": "closest",
          "mapbox": {
           "style": "light"
          },
          "paper_bgcolor": "white",
          "plot_bgcolor": "#E5ECF6",
          "polar": {
           "angularaxis": {
            "gridcolor": "white",
            "linecolor": "white",
            "ticks": ""
           },
           "bgcolor": "#E5ECF6",
           "radialaxis": {
            "gridcolor": "white",
            "linecolor": "white",
            "ticks": ""
           }
          },
          "scene": {
           "xaxis": {
            "backgroundcolor": "#E5ECF6",
            "gridcolor": "white",
            "gridwidth": 2,
            "linecolor": "white",
            "showbackground": true,
            "ticks": "",
            "zerolinecolor": "white"
           },
           "yaxis": {
            "backgroundcolor": "#E5ECF6",
            "gridcolor": "white",
            "gridwidth": 2,
            "linecolor": "white",
            "showbackground": true,
            "ticks": "",
            "zerolinecolor": "white"
           },
           "zaxis": {
            "backgroundcolor": "#E5ECF6",
            "gridcolor": "white",
            "gridwidth": 2,
            "linecolor": "white",
            "showbackground": true,
            "ticks": "",
            "zerolinecolor": "white"
           }
          },
          "shapedefaults": {
           "line": {
            "color": "#2a3f5f"
           }
          },
          "ternary": {
           "aaxis": {
            "gridcolor": "white",
            "linecolor": "white",
            "ticks": ""
           },
           "baxis": {
            "gridcolor": "white",
            "linecolor": "white",
            "ticks": ""
           },
           "bgcolor": "#E5ECF6",
           "caxis": {
            "gridcolor": "white",
            "linecolor": "white",
            "ticks": ""
           }
          },
          "title": {
           "x": 0.05
          },
          "xaxis": {
           "automargin": true,
           "gridcolor": "white",
           "linecolor": "white",
           "ticks": "",
           "title": {
            "standoff": 15
           },
           "zerolinecolor": "white",
           "zerolinewidth": 2
          },
          "yaxis": {
           "automargin": true,
           "gridcolor": "white",
           "linecolor": "white",
           "ticks": "",
           "title": {
            "standoff": 15
           },
           "zerolinecolor": "white",
           "zerolinewidth": 2
          }
         }
        },
        "title": {
         "text": "Number of customers in each section by hour"
        },
        "xaxis": {
         "anchor": "y",
         "domain": [
          0,
          1
         ],
         "title": {
          "text": "timestamp"
         }
        },
        "yaxis": {
         "anchor": "x",
         "domain": [
          0,
          1
         ],
         "title": {
          "text": "customer_no"
         }
        }
       }
      }
     },
     "metadata": {},
     "output_type": "display_data"
    }
   ],
   "source": [
    "px.line(\n",
    "    location_by_hour,\n",
    "    x=location_by_hour.index,\n",
    "    y=\"customer_no\",\n",
    "    color=\"location\",\n",
    "    title=\"Number of customers in each section by hour\",\n",
    ")"
   ]
  },
  {
   "cell_type": "code",
   "execution_count": 8,
   "metadata": {},
   "outputs": [
    {
     "data": {
      "text/html": [
       "<div>\n",
       "<style scoped>\n",
       "    .dataframe tbody tr th:only-of-type {\n",
       "        vertical-align: middle;\n",
       "    }\n",
       "\n",
       "    .dataframe tbody tr th {\n",
       "        vertical-align: top;\n",
       "    }\n",
       "\n",
       "    .dataframe thead th {\n",
       "        text-align: right;\n",
       "    }\n",
       "</style>\n",
       "<table border=\"1\" class=\"dataframe\">\n",
       "  <thead>\n",
       "    <tr style=\"text-align: right;\">\n",
       "      <th></th>\n",
       "      <th>location</th>\n",
       "      <th>customer_no</th>\n",
       "    </tr>\n",
       "    <tr>\n",
       "      <th>timestamp</th>\n",
       "      <th></th>\n",
       "      <th></th>\n",
       "    </tr>\n",
       "  </thead>\n",
       "  <tbody>\n",
       "    <tr>\n",
       "      <th>2019-09-02</th>\n",
       "      <td>checkout</td>\n",
       "      <td>1447</td>\n",
       "    </tr>\n",
       "    <tr>\n",
       "      <th>2019-09-03</th>\n",
       "      <td>checkout</td>\n",
       "      <td>1422</td>\n",
       "    </tr>\n",
       "    <tr>\n",
       "      <th>2019-09-04</th>\n",
       "      <td>checkout</td>\n",
       "      <td>1531</td>\n",
       "    </tr>\n",
       "    <tr>\n",
       "      <th>2019-09-05</th>\n",
       "      <td>checkout</td>\n",
       "      <td>1535</td>\n",
       "    </tr>\n",
       "    <tr>\n",
       "      <th>2019-09-06</th>\n",
       "      <td>checkout</td>\n",
       "      <td>1510</td>\n",
       "    </tr>\n",
       "  </tbody>\n",
       "</table>\n",
       "</div>"
      ],
      "text/plain": [
       "            location  customer_no\n",
       "timestamp                        \n",
       "2019-09-02  checkout         1447\n",
       "2019-09-03  checkout         1422\n",
       "2019-09-04  checkout         1531\n",
       "2019-09-05  checkout         1535\n",
       "2019-09-06  checkout         1510"
      ]
     },
     "execution_count": 8,
     "metadata": {},
     "output_type": "execute_result"
    }
   ],
   "source": [
    "location_by_day = (\n",
    "    df.set_index(\"timestamp\")\n",
    "    .groupby(\"location\")[[\"customer_no\"]]\n",
    "    .resample(\"D\")\n",
    "    .count()\n",
    "    .reset_index()\n",
    "    .set_index(\"timestamp\")\n",
    ")\n",
    "location_by_day.head()"
   ]
  },
  {
   "cell_type": "code",
   "execution_count": 9,
   "metadata": {},
   "outputs": [
    {
     "data": {
      "application/vnd.plotly.v1+json": {
       "config": {
        "plotlyServerURL": "https://plot.ly"
       },
       "data": [
        {
         "hovertemplate": "location=checkout<br>timestamp=%{x}<br>customer_no=%{y}<extra></extra>",
         "legendgroup": "checkout",
         "line": {
          "color": "#1F77B4",
          "dash": "solid"
         },
         "marker": {
          "symbol": "circle"
         },
         "mode": "lines",
         "name": "checkout",
         "orientation": "v",
         "showlegend": true,
         "type": "scatter",
         "x": [
          "2019-09-02T00:00:00",
          "2019-09-03T00:00:00",
          "2019-09-04T00:00:00",
          "2019-09-05T00:00:00",
          "2019-09-06T00:00:00"
         ],
         "xaxis": "x",
         "y": [
          1447,
          1422,
          1531,
          1535,
          1510
         ],
         "yaxis": "y"
        },
        {
         "hovertemplate": "location=dairy<br>timestamp=%{x}<br>customer_no=%{y}<extra></extra>",
         "legendgroup": "dairy",
         "line": {
          "color": "#FF7F0E",
          "dash": "solid"
         },
         "marker": {
          "symbol": "circle"
         },
         "mode": "lines",
         "name": "dairy",
         "orientation": "v",
         "showlegend": true,
         "type": "scatter",
         "x": [
          "2019-09-02T00:00:00",
          "2019-09-03T00:00:00",
          "2019-09-04T00:00:00",
          "2019-09-05T00:00:00",
          "2019-09-06T00:00:00"
         ],
         "xaxis": "x",
         "y": [
          3495,
          3462,
          3641,
          3705,
          3471
         ],
         "yaxis": "y"
        },
        {
         "hovertemplate": "location=drinks<br>timestamp=%{x}<br>customer_no=%{y}<extra></extra>",
         "legendgroup": "drinks",
         "line": {
          "color": "#2CA02C",
          "dash": "solid"
         },
         "marker": {
          "symbol": "circle"
         },
         "mode": "lines",
         "name": "drinks",
         "orientation": "v",
         "showlegend": true,
         "type": "scatter",
         "x": [
          "2019-09-02T00:00:00",
          "2019-09-03T00:00:00",
          "2019-09-04T00:00:00",
          "2019-09-05T00:00:00",
          "2019-09-06T00:00:00"
         ],
         "xaxis": "x",
         "y": [
          2047,
          1728,
          1953,
          1875,
          2123
         ],
         "yaxis": "y"
        },
        {
         "hovertemplate": "location=entrance<br>timestamp=%{x}<br>customer_no=%{y}<extra></extra>",
         "legendgroup": "entrance",
         "line": {
          "color": "#D62728",
          "dash": "solid"
         },
         "marker": {
          "symbol": "circle"
         },
         "mode": "lines",
         "name": "entrance",
         "orientation": "v",
         "showlegend": true,
         "type": "scatter",
         "x": [
          "2019-09-02T00:00:00",
          "2019-09-03T00:00:00",
          "2019-09-04T00:00:00",
          "2019-09-05T00:00:00",
          "2019-09-06T00:00:00"
         ],
         "xaxis": "x",
         "y": [
          1447,
          1422,
          1531,
          1535,
          1510
         ],
         "yaxis": "y"
        },
        {
         "hovertemplate": "location=fruit<br>timestamp=%{x}<br>customer_no=%{y}<extra></extra>",
         "legendgroup": "fruit",
         "line": {
          "color": "#9467BD",
          "dash": "solid"
         },
         "marker": {
          "symbol": "circle"
         },
         "mode": "lines",
         "name": "fruit",
         "orientation": "v",
         "showlegend": true,
         "type": "scatter",
         "x": [
          "2019-09-02T00:00:00",
          "2019-09-03T00:00:00",
          "2019-09-04T00:00:00",
          "2019-09-05T00:00:00",
          "2019-09-06T00:00:00"
         ],
         "xaxis": "x",
         "y": [
          2558,
          2352,
          2476,
          2656,
          2666
         ],
         "yaxis": "y"
        },
        {
         "hovertemplate": "location=spices<br>timestamp=%{x}<br>customer_no=%{y}<extra></extra>",
         "legendgroup": "spices",
         "line": {
          "color": "#8C564B",
          "dash": "solid"
         },
         "marker": {
          "symbol": "circle"
         },
         "mode": "lines",
         "name": "spices",
         "orientation": "v",
         "showlegend": true,
         "type": "scatter",
         "x": [
          "2019-09-02T00:00:00",
          "2019-09-03T00:00:00",
          "2019-09-04T00:00:00",
          "2019-09-05T00:00:00",
          "2019-09-06T00:00:00"
         ],
         "xaxis": "x",
         "y": [
          1228,
          1161,
          1235,
          1348,
          1306
         ],
         "yaxis": "y"
        }
       ],
       "layout": {
        "legend": {
         "title": {
          "text": "location"
         },
         "tracegroupgap": 0
        },
        "template": {
         "data": {
          "bar": [
           {
            "error_x": {
             "color": "rgb(36,36,36)"
            },
            "error_y": {
             "color": "rgb(36,36,36)"
            },
            "marker": {
             "line": {
              "color": "white",
              "width": 0.5
             },
             "pattern": {
              "fillmode": "overlay",
              "size": 10,
              "solidity": 0.2
             }
            },
            "type": "bar"
           }
          ],
          "barpolar": [
           {
            "marker": {
             "line": {
              "color": "white",
              "width": 0.5
             },
             "pattern": {
              "fillmode": "overlay",
              "size": 10,
              "solidity": 0.2
             }
            },
            "type": "barpolar"
           }
          ],
          "carpet": [
           {
            "aaxis": {
             "endlinecolor": "rgb(36,36,36)",
             "gridcolor": "white",
             "linecolor": "white",
             "minorgridcolor": "white",
             "startlinecolor": "rgb(36,36,36)"
            },
            "baxis": {
             "endlinecolor": "rgb(36,36,36)",
             "gridcolor": "white",
             "linecolor": "white",
             "minorgridcolor": "white",
             "startlinecolor": "rgb(36,36,36)"
            },
            "type": "carpet"
           }
          ],
          "choropleth": [
           {
            "colorbar": {
             "outlinewidth": 1,
             "tickcolor": "rgb(36,36,36)",
             "ticks": "outside"
            },
            "type": "choropleth"
           }
          ],
          "contour": [
           {
            "colorbar": {
             "outlinewidth": 1,
             "tickcolor": "rgb(36,36,36)",
             "ticks": "outside"
            },
            "colorscale": [
             [
              0,
              "#440154"
             ],
             [
              0.1111111111111111,
              "#482878"
             ],
             [
              0.2222222222222222,
              "#3e4989"
             ],
             [
              0.3333333333333333,
              "#31688e"
             ],
             [
              0.4444444444444444,
              "#26828e"
             ],
             [
              0.5555555555555556,
              "#1f9e89"
             ],
             [
              0.6666666666666666,
              "#35b779"
             ],
             [
              0.7777777777777778,
              "#6ece58"
             ],
             [
              0.8888888888888888,
              "#b5de2b"
             ],
             [
              1,
              "#fde725"
             ]
            ],
            "type": "contour"
           }
          ],
          "contourcarpet": [
           {
            "colorbar": {
             "outlinewidth": 1,
             "tickcolor": "rgb(36,36,36)",
             "ticks": "outside"
            },
            "type": "contourcarpet"
           }
          ],
          "heatmap": [
           {
            "colorbar": {
             "outlinewidth": 1,
             "tickcolor": "rgb(36,36,36)",
             "ticks": "outside"
            },
            "colorscale": [
             [
              0,
              "#440154"
             ],
             [
              0.1111111111111111,
              "#482878"
             ],
             [
              0.2222222222222222,
              "#3e4989"
             ],
             [
              0.3333333333333333,
              "#31688e"
             ],
             [
              0.4444444444444444,
              "#26828e"
             ],
             [
              0.5555555555555556,
              "#1f9e89"
             ],
             [
              0.6666666666666666,
              "#35b779"
             ],
             [
              0.7777777777777778,
              "#6ece58"
             ],
             [
              0.8888888888888888,
              "#b5de2b"
             ],
             [
              1,
              "#fde725"
             ]
            ],
            "type": "heatmap"
           }
          ],
          "heatmapgl": [
           {
            "colorbar": {
             "outlinewidth": 1,
             "tickcolor": "rgb(36,36,36)",
             "ticks": "outside"
            },
            "colorscale": [
             [
              0,
              "#440154"
             ],
             [
              0.1111111111111111,
              "#482878"
             ],
             [
              0.2222222222222222,
              "#3e4989"
             ],
             [
              0.3333333333333333,
              "#31688e"
             ],
             [
              0.4444444444444444,
              "#26828e"
             ],
             [
              0.5555555555555556,
              "#1f9e89"
             ],
             [
              0.6666666666666666,
              "#35b779"
             ],
             [
              0.7777777777777778,
              "#6ece58"
             ],
             [
              0.8888888888888888,
              "#b5de2b"
             ],
             [
              1,
              "#fde725"
             ]
            ],
            "type": "heatmapgl"
           }
          ],
          "histogram": [
           {
            "marker": {
             "line": {
              "color": "white",
              "width": 0.6
             }
            },
            "type": "histogram"
           }
          ],
          "histogram2d": [
           {
            "colorbar": {
             "outlinewidth": 1,
             "tickcolor": "rgb(36,36,36)",
             "ticks": "outside"
            },
            "colorscale": [
             [
              0,
              "#440154"
             ],
             [
              0.1111111111111111,
              "#482878"
             ],
             [
              0.2222222222222222,
              "#3e4989"
             ],
             [
              0.3333333333333333,
              "#31688e"
             ],
             [
              0.4444444444444444,
              "#26828e"
             ],
             [
              0.5555555555555556,
              "#1f9e89"
             ],
             [
              0.6666666666666666,
              "#35b779"
             ],
             [
              0.7777777777777778,
              "#6ece58"
             ],
             [
              0.8888888888888888,
              "#b5de2b"
             ],
             [
              1,
              "#fde725"
             ]
            ],
            "type": "histogram2d"
           }
          ],
          "histogram2dcontour": [
           {
            "colorbar": {
             "outlinewidth": 1,
             "tickcolor": "rgb(36,36,36)",
             "ticks": "outside"
            },
            "colorscale": [
             [
              0,
              "#440154"
             ],
             [
              0.1111111111111111,
              "#482878"
             ],
             [
              0.2222222222222222,
              "#3e4989"
             ],
             [
              0.3333333333333333,
              "#31688e"
             ],
             [
              0.4444444444444444,
              "#26828e"
             ],
             [
              0.5555555555555556,
              "#1f9e89"
             ],
             [
              0.6666666666666666,
              "#35b779"
             ],
             [
              0.7777777777777778,
              "#6ece58"
             ],
             [
              0.8888888888888888,
              "#b5de2b"
             ],
             [
              1,
              "#fde725"
             ]
            ],
            "type": "histogram2dcontour"
           }
          ],
          "mesh3d": [
           {
            "colorbar": {
             "outlinewidth": 1,
             "tickcolor": "rgb(36,36,36)",
             "ticks": "outside"
            },
            "type": "mesh3d"
           }
          ],
          "parcoords": [
           {
            "line": {
             "colorbar": {
              "outlinewidth": 1,
              "tickcolor": "rgb(36,36,36)",
              "ticks": "outside"
             }
            },
            "type": "parcoords"
           }
          ],
          "pie": [
           {
            "automargin": true,
            "type": "pie"
           }
          ],
          "scatter": [
           {
            "fillpattern": {
             "fillmode": "overlay",
             "size": 10,
             "solidity": 0.2
            },
            "type": "scatter"
           }
          ],
          "scatter3d": [
           {
            "line": {
             "colorbar": {
              "outlinewidth": 1,
              "tickcolor": "rgb(36,36,36)",
              "ticks": "outside"
             }
            },
            "marker": {
             "colorbar": {
              "outlinewidth": 1,
              "tickcolor": "rgb(36,36,36)",
              "ticks": "outside"
             }
            },
            "type": "scatter3d"
           }
          ],
          "scattercarpet": [
           {
            "marker": {
             "colorbar": {
              "outlinewidth": 1,
              "tickcolor": "rgb(36,36,36)",
              "ticks": "outside"
             }
            },
            "type": "scattercarpet"
           }
          ],
          "scattergeo": [
           {
            "marker": {
             "colorbar": {
              "outlinewidth": 1,
              "tickcolor": "rgb(36,36,36)",
              "ticks": "outside"
             }
            },
            "type": "scattergeo"
           }
          ],
          "scattergl": [
           {
            "marker": {
             "colorbar": {
              "outlinewidth": 1,
              "tickcolor": "rgb(36,36,36)",
              "ticks": "outside"
             }
            },
            "type": "scattergl"
           }
          ],
          "scattermapbox": [
           {
            "marker": {
             "colorbar": {
              "outlinewidth": 1,
              "tickcolor": "rgb(36,36,36)",
              "ticks": "outside"
             }
            },
            "type": "scattermapbox"
           }
          ],
          "scatterpolar": [
           {
            "marker": {
             "colorbar": {
              "outlinewidth": 1,
              "tickcolor": "rgb(36,36,36)",
              "ticks": "outside"
             }
            },
            "type": "scatterpolar"
           }
          ],
          "scatterpolargl": [
           {
            "marker": {
             "colorbar": {
              "outlinewidth": 1,
              "tickcolor": "rgb(36,36,36)",
              "ticks": "outside"
             }
            },
            "type": "scatterpolargl"
           }
          ],
          "scatterternary": [
           {
            "marker": {
             "colorbar": {
              "outlinewidth": 1,
              "tickcolor": "rgb(36,36,36)",
              "ticks": "outside"
             }
            },
            "type": "scatterternary"
           }
          ],
          "surface": [
           {
            "colorbar": {
             "outlinewidth": 1,
             "tickcolor": "rgb(36,36,36)",
             "ticks": "outside"
            },
            "colorscale": [
             [
              0,
              "#440154"
             ],
             [
              0.1111111111111111,
              "#482878"
             ],
             [
              0.2222222222222222,
              "#3e4989"
             ],
             [
              0.3333333333333333,
              "#31688e"
             ],
             [
              0.4444444444444444,
              "#26828e"
             ],
             [
              0.5555555555555556,
              "#1f9e89"
             ],
             [
              0.6666666666666666,
              "#35b779"
             ],
             [
              0.7777777777777778,
              "#6ece58"
             ],
             [
              0.8888888888888888,
              "#b5de2b"
             ],
             [
              1,
              "#fde725"
             ]
            ],
            "type": "surface"
           }
          ],
          "table": [
           {
            "cells": {
             "fill": {
              "color": "rgb(237,237,237)"
             },
             "line": {
              "color": "white"
             }
            },
            "header": {
             "fill": {
              "color": "rgb(217,217,217)"
             },
             "line": {
              "color": "white"
             }
            },
            "type": "table"
           }
          ]
         },
         "layout": {
          "annotationdefaults": {
           "arrowhead": 0,
           "arrowwidth": 1
          },
          "autotypenumbers": "strict",
          "coloraxis": {
           "colorbar": {
            "outlinewidth": 1,
            "tickcolor": "rgb(36,36,36)",
            "ticks": "outside"
           }
          },
          "colorscale": {
           "diverging": [
            [
             0,
             "rgb(103,0,31)"
            ],
            [
             0.1,
             "rgb(178,24,43)"
            ],
            [
             0.2,
             "rgb(214,96,77)"
            ],
            [
             0.3,
             "rgb(244,165,130)"
            ],
            [
             0.4,
             "rgb(253,219,199)"
            ],
            [
             0.5,
             "rgb(247,247,247)"
            ],
            [
             0.6,
             "rgb(209,229,240)"
            ],
            [
             0.7,
             "rgb(146,197,222)"
            ],
            [
             0.8,
             "rgb(67,147,195)"
            ],
            [
             0.9,
             "rgb(33,102,172)"
            ],
            [
             1,
             "rgb(5,48,97)"
            ]
           ],
           "sequential": [
            [
             0,
             "#440154"
            ],
            [
             0.1111111111111111,
             "#482878"
            ],
            [
             0.2222222222222222,
             "#3e4989"
            ],
            [
             0.3333333333333333,
             "#31688e"
            ],
            [
             0.4444444444444444,
             "#26828e"
            ],
            [
             0.5555555555555556,
             "#1f9e89"
            ],
            [
             0.6666666666666666,
             "#35b779"
            ],
            [
             0.7777777777777778,
             "#6ece58"
            ],
            [
             0.8888888888888888,
             "#b5de2b"
            ],
            [
             1,
             "#fde725"
            ]
           ],
           "sequentialminus": [
            [
             0,
             "#440154"
            ],
            [
             0.1111111111111111,
             "#482878"
            ],
            [
             0.2222222222222222,
             "#3e4989"
            ],
            [
             0.3333333333333333,
             "#31688e"
            ],
            [
             0.4444444444444444,
             "#26828e"
            ],
            [
             0.5555555555555556,
             "#1f9e89"
            ],
            [
             0.6666666666666666,
             "#35b779"
            ],
            [
             0.7777777777777778,
             "#6ece58"
            ],
            [
             0.8888888888888888,
             "#b5de2b"
            ],
            [
             1,
             "#fde725"
            ]
           ]
          },
          "colorway": [
           "#1F77B4",
           "#FF7F0E",
           "#2CA02C",
           "#D62728",
           "#9467BD",
           "#8C564B",
           "#E377C2",
           "#7F7F7F",
           "#BCBD22",
           "#17BECF"
          ],
          "font": {
           "color": "rgb(36,36,36)"
          },
          "geo": {
           "bgcolor": "white",
           "lakecolor": "white",
           "landcolor": "white",
           "showlakes": true,
           "showland": true,
           "subunitcolor": "white"
          },
          "hoverlabel": {
           "align": "left"
          },
          "hovermode": "closest",
          "mapbox": {
           "style": "light"
          },
          "paper_bgcolor": "white",
          "plot_bgcolor": "white",
          "polar": {
           "angularaxis": {
            "gridcolor": "rgb(232,232,232)",
            "linecolor": "rgb(36,36,36)",
            "showgrid": false,
            "showline": true,
            "ticks": "outside"
           },
           "bgcolor": "white",
           "radialaxis": {
            "gridcolor": "rgb(232,232,232)",
            "linecolor": "rgb(36,36,36)",
            "showgrid": false,
            "showline": true,
            "ticks": "outside"
           }
          },
          "scene": {
           "xaxis": {
            "backgroundcolor": "white",
            "gridcolor": "rgb(232,232,232)",
            "gridwidth": 2,
            "linecolor": "rgb(36,36,36)",
            "showbackground": true,
            "showgrid": false,
            "showline": true,
            "ticks": "outside",
            "zeroline": false,
            "zerolinecolor": "rgb(36,36,36)"
           },
           "yaxis": {
            "backgroundcolor": "white",
            "gridcolor": "rgb(232,232,232)",
            "gridwidth": 2,
            "linecolor": "rgb(36,36,36)",
            "showbackground": true,
            "showgrid": false,
            "showline": true,
            "ticks": "outside",
            "zeroline": false,
            "zerolinecolor": "rgb(36,36,36)"
           },
           "zaxis": {
            "backgroundcolor": "white",
            "gridcolor": "rgb(232,232,232)",
            "gridwidth": 2,
            "linecolor": "rgb(36,36,36)",
            "showbackground": true,
            "showgrid": false,
            "showline": true,
            "ticks": "outside",
            "zeroline": false,
            "zerolinecolor": "rgb(36,36,36)"
           }
          },
          "shapedefaults": {
           "fillcolor": "black",
           "line": {
            "width": 0
           },
           "opacity": 0.3
          },
          "ternary": {
           "aaxis": {
            "gridcolor": "rgb(232,232,232)",
            "linecolor": "rgb(36,36,36)",
            "showgrid": false,
            "showline": true,
            "ticks": "outside"
           },
           "baxis": {
            "gridcolor": "rgb(232,232,232)",
            "linecolor": "rgb(36,36,36)",
            "showgrid": false,
            "showline": true,
            "ticks": "outside"
           },
           "bgcolor": "white",
           "caxis": {
            "gridcolor": "rgb(232,232,232)",
            "linecolor": "rgb(36,36,36)",
            "showgrid": false,
            "showline": true,
            "ticks": "outside"
           }
          },
          "title": {
           "x": 0.05
          },
          "xaxis": {
           "automargin": true,
           "gridcolor": "rgb(232,232,232)",
           "linecolor": "rgb(36,36,36)",
           "showgrid": false,
           "showline": true,
           "ticks": "outside",
           "title": {
            "standoff": 15
           },
           "zeroline": false,
           "zerolinecolor": "rgb(36,36,36)"
          },
          "yaxis": {
           "automargin": true,
           "gridcolor": "rgb(232,232,232)",
           "linecolor": "rgb(36,36,36)",
           "showgrid": false,
           "showline": true,
           "ticks": "outside",
           "title": {
            "standoff": 15
           },
           "zeroline": false,
           "zerolinecolor": "rgb(36,36,36)"
          }
         }
        },
        "title": {
         "text": "Number of customers in each section by day"
        },
        "xaxis": {
         "anchor": "y",
         "domain": [
          0,
          1
         ],
         "title": {
          "text": "timestamp"
         }
        },
        "yaxis": {
         "anchor": "x",
         "domain": [
          0,
          1
         ],
         "title": {
          "text": "customer_no"
         }
        }
       }
      }
     },
     "metadata": {},
     "output_type": "display_data"
    }
   ],
   "source": [
    "px.line(\n",
    "    location_by_day,\n",
    "    x=location_by_day.index,\n",
    "    y=\"customer_no\",\n",
    "    color=\"location\",\n",
    "    title=\"Number of customers in each section by day\",\n",
    "    template=\"simple_white\",\n",
    ")"
   ]
  },
  {
   "attachments": {},
   "cell_type": "markdown",
   "metadata": {},
   "source": [
    "\n",
    "### Display the number of customers at checkout over time\n"
   ]
  },
  {
   "cell_type": "code",
   "execution_count": 20,
   "metadata": {},
   "outputs": [
    {
     "data": {
      "text/html": [
       "<div>\n",
       "<style scoped>\n",
       "    .dataframe tbody tr th:only-of-type {\n",
       "        vertical-align: middle;\n",
       "    }\n",
       "\n",
       "    .dataframe tbody tr th {\n",
       "        vertical-align: top;\n",
       "    }\n",
       "\n",
       "    .dataframe thead th {\n",
       "        text-align: right;\n",
       "    }\n",
       "</style>\n",
       "<table border=\"1\" class=\"dataframe\">\n",
       "  <thead>\n",
       "    <tr style=\"text-align: right;\">\n",
       "      <th></th>\n",
       "      <th>customer_no</th>\n",
       "      <th>location</th>\n",
       "    </tr>\n",
       "    <tr>\n",
       "      <th>timestamp</th>\n",
       "      <th></th>\n",
       "      <th></th>\n",
       "    </tr>\n",
       "  </thead>\n",
       "  <tbody>\n",
       "    <tr>\n",
       "      <th>2019-09-02 07:00:00</th>\n",
       "      <td>92</td>\n",
       "      <td>92</td>\n",
       "    </tr>\n",
       "    <tr>\n",
       "      <th>2019-09-02 08:00:00</th>\n",
       "      <td>112</td>\n",
       "      <td>112</td>\n",
       "    </tr>\n",
       "    <tr>\n",
       "      <th>2019-09-02 09:00:00</th>\n",
       "      <td>85</td>\n",
       "      <td>85</td>\n",
       "    </tr>\n",
       "    <tr>\n",
       "      <th>2019-09-02 10:00:00</th>\n",
       "      <td>90</td>\n",
       "      <td>90</td>\n",
       "    </tr>\n",
       "    <tr>\n",
       "      <th>2019-09-02 11:00:00</th>\n",
       "      <td>55</td>\n",
       "      <td>55</td>\n",
       "    </tr>\n",
       "  </tbody>\n",
       "</table>\n",
       "</div>"
      ],
      "text/plain": [
       "                     customer_no  location\n",
       "timestamp                                 \n",
       "2019-09-02 07:00:00           92        92\n",
       "2019-09-02 08:00:00          112       112\n",
       "2019-09-02 09:00:00           85        85\n",
       "2019-09-02 10:00:00           90        90\n",
       "2019-09-02 11:00:00           55        55"
      ]
     },
     "execution_count": 20,
     "metadata": {},
     "output_type": "execute_result"
    }
   ],
   "source": [
    "checkout_by_hour = (\n",
    "    df[df[\"location\"] == \"checkout\"]\n",
    "    .set_index(\"timestamp\")\n",
    "    .resample(\"H\")\n",
    "    .count()\n",
    "    .reset_index()\n",
    "    .set_index(\"timestamp\")\n",
    ")\n",
    "checkout_by_hour.head()"
   ]
  },
  {
   "cell_type": "code",
   "execution_count": 11,
   "metadata": {},
   "outputs": [
    {
     "data": {
      "application/vnd.plotly.v1+json": {
       "config": {
        "plotlyServerURL": "https://plot.ly"
       },
       "data": [
        {
         "hovertemplate": "timestamp=%{x}<br>customer_no=%{y}<extra></extra>",
         "legendgroup": "",
         "line": {
          "color": "#1F77B4",
          "dash": "solid"
         },
         "marker": {
          "symbol": "circle"
         },
         "mode": "lines",
         "name": "",
         "orientation": "v",
         "showlegend": false,
         "type": "scatter",
         "x": [
          "2019-09-02T07:00:00",
          "2019-09-02T08:00:00",
          "2019-09-02T09:00:00",
          "2019-09-02T10:00:00",
          "2019-09-02T11:00:00",
          "2019-09-02T12:00:00",
          "2019-09-02T13:00:00",
          "2019-09-02T14:00:00",
          "2019-09-02T15:00:00",
          "2019-09-02T16:00:00",
          "2019-09-02T17:00:00",
          "2019-09-02T18:00:00",
          "2019-09-02T19:00:00",
          "2019-09-02T20:00:00",
          "2019-09-02T21:00:00",
          "2019-09-02T22:00:00",
          "2019-09-02T23:00:00",
          "2019-09-03T00:00:00",
          "2019-09-03T01:00:00",
          "2019-09-03T02:00:00",
          "2019-09-03T03:00:00",
          "2019-09-03T04:00:00",
          "2019-09-03T05:00:00",
          "2019-09-03T06:00:00",
          "2019-09-03T07:00:00",
          "2019-09-03T08:00:00",
          "2019-09-03T09:00:00",
          "2019-09-03T10:00:00",
          "2019-09-03T11:00:00",
          "2019-09-03T12:00:00",
          "2019-09-03T13:00:00",
          "2019-09-03T14:00:00",
          "2019-09-03T15:00:00",
          "2019-09-03T16:00:00",
          "2019-09-03T17:00:00",
          "2019-09-03T18:00:00",
          "2019-09-03T19:00:00",
          "2019-09-03T20:00:00",
          "2019-09-03T21:00:00",
          "2019-09-03T22:00:00",
          "2019-09-03T23:00:00",
          "2019-09-04T00:00:00",
          "2019-09-04T01:00:00",
          "2019-09-04T02:00:00",
          "2019-09-04T03:00:00",
          "2019-09-04T04:00:00",
          "2019-09-04T05:00:00",
          "2019-09-04T06:00:00",
          "2019-09-04T07:00:00",
          "2019-09-04T08:00:00",
          "2019-09-04T09:00:00",
          "2019-09-04T10:00:00",
          "2019-09-04T11:00:00",
          "2019-09-04T12:00:00",
          "2019-09-04T13:00:00",
          "2019-09-04T14:00:00",
          "2019-09-04T15:00:00",
          "2019-09-04T16:00:00",
          "2019-09-04T17:00:00",
          "2019-09-04T18:00:00",
          "2019-09-04T19:00:00",
          "2019-09-04T20:00:00",
          "2019-09-04T21:00:00",
          "2019-09-04T22:00:00",
          "2019-09-04T23:00:00",
          "2019-09-05T00:00:00",
          "2019-09-05T01:00:00",
          "2019-09-05T02:00:00",
          "2019-09-05T03:00:00",
          "2019-09-05T04:00:00",
          "2019-09-05T05:00:00",
          "2019-09-05T06:00:00",
          "2019-09-05T07:00:00",
          "2019-09-05T08:00:00",
          "2019-09-05T09:00:00",
          "2019-09-05T10:00:00",
          "2019-09-05T11:00:00",
          "2019-09-05T12:00:00",
          "2019-09-05T13:00:00",
          "2019-09-05T14:00:00",
          "2019-09-05T15:00:00",
          "2019-09-05T16:00:00",
          "2019-09-05T17:00:00",
          "2019-09-05T18:00:00",
          "2019-09-05T19:00:00",
          "2019-09-05T20:00:00",
          "2019-09-05T21:00:00",
          "2019-09-05T22:00:00",
          "2019-09-05T23:00:00",
          "2019-09-06T00:00:00",
          "2019-09-06T01:00:00",
          "2019-09-06T02:00:00",
          "2019-09-06T03:00:00",
          "2019-09-06T04:00:00",
          "2019-09-06T05:00:00",
          "2019-09-06T06:00:00",
          "2019-09-06T07:00:00",
          "2019-09-06T08:00:00",
          "2019-09-06T09:00:00",
          "2019-09-06T10:00:00",
          "2019-09-06T11:00:00",
          "2019-09-06T12:00:00",
          "2019-09-06T13:00:00",
          "2019-09-06T14:00:00",
          "2019-09-06T15:00:00",
          "2019-09-06T16:00:00",
          "2019-09-06T17:00:00",
          "2019-09-06T18:00:00",
          "2019-09-06T19:00:00",
          "2019-09-06T20:00:00",
          "2019-09-06T21:00:00"
         ],
         "xaxis": "x",
         "y": [
          92,
          112,
          85,
          90,
          55,
          73,
          120,
          90,
          94,
          86,
          122,
          128,
          129,
          109,
          62,
          0,
          0,
          0,
          0,
          0,
          0,
          0,
          0,
          0,
          91,
          129,
          77,
          81,
          47,
          60,
          104,
          110,
          72,
          118,
          109,
          134,
          127,
          99,
          64,
          0,
          0,
          0,
          0,
          0,
          0,
          0,
          0,
          0,
          85,
          165,
          106,
          85,
          88,
          89,
          102,
          105,
          79,
          94,
          98,
          97,
          192,
          85,
          61,
          0,
          0,
          0,
          0,
          0,
          0,
          0,
          0,
          0,
          99,
          139,
          105,
          91,
          73,
          72,
          80,
          83,
          86,
          118,
          112,
          123,
          172,
          96,
          86,
          0,
          0,
          0,
          0,
          0,
          0,
          0,
          0,
          0,
          87,
          132,
          82,
          80,
          79,
          90,
          108,
          108,
          81,
          102,
          115,
          148,
          135,
          103,
          60
         ],
         "yaxis": "y"
        }
       ],
       "layout": {
        "legend": {
         "tracegroupgap": 0
        },
        "template": {
         "data": {
          "bar": [
           {
            "error_x": {
             "color": "rgb(36,36,36)"
            },
            "error_y": {
             "color": "rgb(36,36,36)"
            },
            "marker": {
             "line": {
              "color": "white",
              "width": 0.5
             },
             "pattern": {
              "fillmode": "overlay",
              "size": 10,
              "solidity": 0.2
             }
            },
            "type": "bar"
           }
          ],
          "barpolar": [
           {
            "marker": {
             "line": {
              "color": "white",
              "width": 0.5
             },
             "pattern": {
              "fillmode": "overlay",
              "size": 10,
              "solidity": 0.2
             }
            },
            "type": "barpolar"
           }
          ],
          "carpet": [
           {
            "aaxis": {
             "endlinecolor": "rgb(36,36,36)",
             "gridcolor": "white",
             "linecolor": "white",
             "minorgridcolor": "white",
             "startlinecolor": "rgb(36,36,36)"
            },
            "baxis": {
             "endlinecolor": "rgb(36,36,36)",
             "gridcolor": "white",
             "linecolor": "white",
             "minorgridcolor": "white",
             "startlinecolor": "rgb(36,36,36)"
            },
            "type": "carpet"
           }
          ],
          "choropleth": [
           {
            "colorbar": {
             "outlinewidth": 1,
             "tickcolor": "rgb(36,36,36)",
             "ticks": "outside"
            },
            "type": "choropleth"
           }
          ],
          "contour": [
           {
            "colorbar": {
             "outlinewidth": 1,
             "tickcolor": "rgb(36,36,36)",
             "ticks": "outside"
            },
            "colorscale": [
             [
              0,
              "#440154"
             ],
             [
              0.1111111111111111,
              "#482878"
             ],
             [
              0.2222222222222222,
              "#3e4989"
             ],
             [
              0.3333333333333333,
              "#31688e"
             ],
             [
              0.4444444444444444,
              "#26828e"
             ],
             [
              0.5555555555555556,
              "#1f9e89"
             ],
             [
              0.6666666666666666,
              "#35b779"
             ],
             [
              0.7777777777777778,
              "#6ece58"
             ],
             [
              0.8888888888888888,
              "#b5de2b"
             ],
             [
              1,
              "#fde725"
             ]
            ],
            "type": "contour"
           }
          ],
          "contourcarpet": [
           {
            "colorbar": {
             "outlinewidth": 1,
             "tickcolor": "rgb(36,36,36)",
             "ticks": "outside"
            },
            "type": "contourcarpet"
           }
          ],
          "heatmap": [
           {
            "colorbar": {
             "outlinewidth": 1,
             "tickcolor": "rgb(36,36,36)",
             "ticks": "outside"
            },
            "colorscale": [
             [
              0,
              "#440154"
             ],
             [
              0.1111111111111111,
              "#482878"
             ],
             [
              0.2222222222222222,
              "#3e4989"
             ],
             [
              0.3333333333333333,
              "#31688e"
             ],
             [
              0.4444444444444444,
              "#26828e"
             ],
             [
              0.5555555555555556,
              "#1f9e89"
             ],
             [
              0.6666666666666666,
              "#35b779"
             ],
             [
              0.7777777777777778,
              "#6ece58"
             ],
             [
              0.8888888888888888,
              "#b5de2b"
             ],
             [
              1,
              "#fde725"
             ]
            ],
            "type": "heatmap"
           }
          ],
          "heatmapgl": [
           {
            "colorbar": {
             "outlinewidth": 1,
             "tickcolor": "rgb(36,36,36)",
             "ticks": "outside"
            },
            "colorscale": [
             [
              0,
              "#440154"
             ],
             [
              0.1111111111111111,
              "#482878"
             ],
             [
              0.2222222222222222,
              "#3e4989"
             ],
             [
              0.3333333333333333,
              "#31688e"
             ],
             [
              0.4444444444444444,
              "#26828e"
             ],
             [
              0.5555555555555556,
              "#1f9e89"
             ],
             [
              0.6666666666666666,
              "#35b779"
             ],
             [
              0.7777777777777778,
              "#6ece58"
             ],
             [
              0.8888888888888888,
              "#b5de2b"
             ],
             [
              1,
              "#fde725"
             ]
            ],
            "type": "heatmapgl"
           }
          ],
          "histogram": [
           {
            "marker": {
             "line": {
              "color": "white",
              "width": 0.6
             }
            },
            "type": "histogram"
           }
          ],
          "histogram2d": [
           {
            "colorbar": {
             "outlinewidth": 1,
             "tickcolor": "rgb(36,36,36)",
             "ticks": "outside"
            },
            "colorscale": [
             [
              0,
              "#440154"
             ],
             [
              0.1111111111111111,
              "#482878"
             ],
             [
              0.2222222222222222,
              "#3e4989"
             ],
             [
              0.3333333333333333,
              "#31688e"
             ],
             [
              0.4444444444444444,
              "#26828e"
             ],
             [
              0.5555555555555556,
              "#1f9e89"
             ],
             [
              0.6666666666666666,
              "#35b779"
             ],
             [
              0.7777777777777778,
              "#6ece58"
             ],
             [
              0.8888888888888888,
              "#b5de2b"
             ],
             [
              1,
              "#fde725"
             ]
            ],
            "type": "histogram2d"
           }
          ],
          "histogram2dcontour": [
           {
            "colorbar": {
             "outlinewidth": 1,
             "tickcolor": "rgb(36,36,36)",
             "ticks": "outside"
            },
            "colorscale": [
             [
              0,
              "#440154"
             ],
             [
              0.1111111111111111,
              "#482878"
             ],
             [
              0.2222222222222222,
              "#3e4989"
             ],
             [
              0.3333333333333333,
              "#31688e"
             ],
             [
              0.4444444444444444,
              "#26828e"
             ],
             [
              0.5555555555555556,
              "#1f9e89"
             ],
             [
              0.6666666666666666,
              "#35b779"
             ],
             [
              0.7777777777777778,
              "#6ece58"
             ],
             [
              0.8888888888888888,
              "#b5de2b"
             ],
             [
              1,
              "#fde725"
             ]
            ],
            "type": "histogram2dcontour"
           }
          ],
          "mesh3d": [
           {
            "colorbar": {
             "outlinewidth": 1,
             "tickcolor": "rgb(36,36,36)",
             "ticks": "outside"
            },
            "type": "mesh3d"
           }
          ],
          "parcoords": [
           {
            "line": {
             "colorbar": {
              "outlinewidth": 1,
              "tickcolor": "rgb(36,36,36)",
              "ticks": "outside"
             }
            },
            "type": "parcoords"
           }
          ],
          "pie": [
           {
            "automargin": true,
            "type": "pie"
           }
          ],
          "scatter": [
           {
            "fillpattern": {
             "fillmode": "overlay",
             "size": 10,
             "solidity": 0.2
            },
            "type": "scatter"
           }
          ],
          "scatter3d": [
           {
            "line": {
             "colorbar": {
              "outlinewidth": 1,
              "tickcolor": "rgb(36,36,36)",
              "ticks": "outside"
             }
            },
            "marker": {
             "colorbar": {
              "outlinewidth": 1,
              "tickcolor": "rgb(36,36,36)",
              "ticks": "outside"
             }
            },
            "type": "scatter3d"
           }
          ],
          "scattercarpet": [
           {
            "marker": {
             "colorbar": {
              "outlinewidth": 1,
              "tickcolor": "rgb(36,36,36)",
              "ticks": "outside"
             }
            },
            "type": "scattercarpet"
           }
          ],
          "scattergeo": [
           {
            "marker": {
             "colorbar": {
              "outlinewidth": 1,
              "tickcolor": "rgb(36,36,36)",
              "ticks": "outside"
             }
            },
            "type": "scattergeo"
           }
          ],
          "scattergl": [
           {
            "marker": {
             "colorbar": {
              "outlinewidth": 1,
              "tickcolor": "rgb(36,36,36)",
              "ticks": "outside"
             }
            },
            "type": "scattergl"
           }
          ],
          "scattermapbox": [
           {
            "marker": {
             "colorbar": {
              "outlinewidth": 1,
              "tickcolor": "rgb(36,36,36)",
              "ticks": "outside"
             }
            },
            "type": "scattermapbox"
           }
          ],
          "scatterpolar": [
           {
            "marker": {
             "colorbar": {
              "outlinewidth": 1,
              "tickcolor": "rgb(36,36,36)",
              "ticks": "outside"
             }
            },
            "type": "scatterpolar"
           }
          ],
          "scatterpolargl": [
           {
            "marker": {
             "colorbar": {
              "outlinewidth": 1,
              "tickcolor": "rgb(36,36,36)",
              "ticks": "outside"
             }
            },
            "type": "scatterpolargl"
           }
          ],
          "scatterternary": [
           {
            "marker": {
             "colorbar": {
              "outlinewidth": 1,
              "tickcolor": "rgb(36,36,36)",
              "ticks": "outside"
             }
            },
            "type": "scatterternary"
           }
          ],
          "surface": [
           {
            "colorbar": {
             "outlinewidth": 1,
             "tickcolor": "rgb(36,36,36)",
             "ticks": "outside"
            },
            "colorscale": [
             [
              0,
              "#440154"
             ],
             [
              0.1111111111111111,
              "#482878"
             ],
             [
              0.2222222222222222,
              "#3e4989"
             ],
             [
              0.3333333333333333,
              "#31688e"
             ],
             [
              0.4444444444444444,
              "#26828e"
             ],
             [
              0.5555555555555556,
              "#1f9e89"
             ],
             [
              0.6666666666666666,
              "#35b779"
             ],
             [
              0.7777777777777778,
              "#6ece58"
             ],
             [
              0.8888888888888888,
              "#b5de2b"
             ],
             [
              1,
              "#fde725"
             ]
            ],
            "type": "surface"
           }
          ],
          "table": [
           {
            "cells": {
             "fill": {
              "color": "rgb(237,237,237)"
             },
             "line": {
              "color": "white"
             }
            },
            "header": {
             "fill": {
              "color": "rgb(217,217,217)"
             },
             "line": {
              "color": "white"
             }
            },
            "type": "table"
           }
          ]
         },
         "layout": {
          "annotationdefaults": {
           "arrowhead": 0,
           "arrowwidth": 1
          },
          "autotypenumbers": "strict",
          "coloraxis": {
           "colorbar": {
            "outlinewidth": 1,
            "tickcolor": "rgb(36,36,36)",
            "ticks": "outside"
           }
          },
          "colorscale": {
           "diverging": [
            [
             0,
             "rgb(103,0,31)"
            ],
            [
             0.1,
             "rgb(178,24,43)"
            ],
            [
             0.2,
             "rgb(214,96,77)"
            ],
            [
             0.3,
             "rgb(244,165,130)"
            ],
            [
             0.4,
             "rgb(253,219,199)"
            ],
            [
             0.5,
             "rgb(247,247,247)"
            ],
            [
             0.6,
             "rgb(209,229,240)"
            ],
            [
             0.7,
             "rgb(146,197,222)"
            ],
            [
             0.8,
             "rgb(67,147,195)"
            ],
            [
             0.9,
             "rgb(33,102,172)"
            ],
            [
             1,
             "rgb(5,48,97)"
            ]
           ],
           "sequential": [
            [
             0,
             "#440154"
            ],
            [
             0.1111111111111111,
             "#482878"
            ],
            [
             0.2222222222222222,
             "#3e4989"
            ],
            [
             0.3333333333333333,
             "#31688e"
            ],
            [
             0.4444444444444444,
             "#26828e"
            ],
            [
             0.5555555555555556,
             "#1f9e89"
            ],
            [
             0.6666666666666666,
             "#35b779"
            ],
            [
             0.7777777777777778,
             "#6ece58"
            ],
            [
             0.8888888888888888,
             "#b5de2b"
            ],
            [
             1,
             "#fde725"
            ]
           ],
           "sequentialminus": [
            [
             0,
             "#440154"
            ],
            [
             0.1111111111111111,
             "#482878"
            ],
            [
             0.2222222222222222,
             "#3e4989"
            ],
            [
             0.3333333333333333,
             "#31688e"
            ],
            [
             0.4444444444444444,
             "#26828e"
            ],
            [
             0.5555555555555556,
             "#1f9e89"
            ],
            [
             0.6666666666666666,
             "#35b779"
            ],
            [
             0.7777777777777778,
             "#6ece58"
            ],
            [
             0.8888888888888888,
             "#b5de2b"
            ],
            [
             1,
             "#fde725"
            ]
           ]
          },
          "colorway": [
           "#1F77B4",
           "#FF7F0E",
           "#2CA02C",
           "#D62728",
           "#9467BD",
           "#8C564B",
           "#E377C2",
           "#7F7F7F",
           "#BCBD22",
           "#17BECF"
          ],
          "font": {
           "color": "rgb(36,36,36)"
          },
          "geo": {
           "bgcolor": "white",
           "lakecolor": "white",
           "landcolor": "white",
           "showlakes": true,
           "showland": true,
           "subunitcolor": "white"
          },
          "hoverlabel": {
           "align": "left"
          },
          "hovermode": "closest",
          "mapbox": {
           "style": "light"
          },
          "paper_bgcolor": "white",
          "plot_bgcolor": "white",
          "polar": {
           "angularaxis": {
            "gridcolor": "rgb(232,232,232)",
            "linecolor": "rgb(36,36,36)",
            "showgrid": false,
            "showline": true,
            "ticks": "outside"
           },
           "bgcolor": "white",
           "radialaxis": {
            "gridcolor": "rgb(232,232,232)",
            "linecolor": "rgb(36,36,36)",
            "showgrid": false,
            "showline": true,
            "ticks": "outside"
           }
          },
          "scene": {
           "xaxis": {
            "backgroundcolor": "white",
            "gridcolor": "rgb(232,232,232)",
            "gridwidth": 2,
            "linecolor": "rgb(36,36,36)",
            "showbackground": true,
            "showgrid": false,
            "showline": true,
            "ticks": "outside",
            "zeroline": false,
            "zerolinecolor": "rgb(36,36,36)"
           },
           "yaxis": {
            "backgroundcolor": "white",
            "gridcolor": "rgb(232,232,232)",
            "gridwidth": 2,
            "linecolor": "rgb(36,36,36)",
            "showbackground": true,
            "showgrid": false,
            "showline": true,
            "ticks": "outside",
            "zeroline": false,
            "zerolinecolor": "rgb(36,36,36)"
           },
           "zaxis": {
            "backgroundcolor": "white",
            "gridcolor": "rgb(232,232,232)",
            "gridwidth": 2,
            "linecolor": "rgb(36,36,36)",
            "showbackground": true,
            "showgrid": false,
            "showline": true,
            "ticks": "outside",
            "zeroline": false,
            "zerolinecolor": "rgb(36,36,36)"
           }
          },
          "shapedefaults": {
           "fillcolor": "black",
           "line": {
            "width": 0
           },
           "opacity": 0.3
          },
          "ternary": {
           "aaxis": {
            "gridcolor": "rgb(232,232,232)",
            "linecolor": "rgb(36,36,36)",
            "showgrid": false,
            "showline": true,
            "ticks": "outside"
           },
           "baxis": {
            "gridcolor": "rgb(232,232,232)",
            "linecolor": "rgb(36,36,36)",
            "showgrid": false,
            "showline": true,
            "ticks": "outside"
           },
           "bgcolor": "white",
           "caxis": {
            "gridcolor": "rgb(232,232,232)",
            "linecolor": "rgb(36,36,36)",
            "showgrid": false,
            "showline": true,
            "ticks": "outside"
           }
          },
          "title": {
           "x": 0.05
          },
          "xaxis": {
           "automargin": true,
           "gridcolor": "rgb(232,232,232)",
           "linecolor": "rgb(36,36,36)",
           "showgrid": false,
           "showline": true,
           "ticks": "outside",
           "title": {
            "standoff": 15
           },
           "zeroline": false,
           "zerolinecolor": "rgb(36,36,36)"
          },
          "yaxis": {
           "automargin": true,
           "gridcolor": "rgb(232,232,232)",
           "linecolor": "rgb(36,36,36)",
           "showgrid": false,
           "showline": true,
           "ticks": "outside",
           "title": {
            "standoff": 15
           },
           "zeroline": false,
           "zerolinecolor": "rgb(36,36,36)"
          }
         }
        },
        "title": {
         "text": "Customers at checkout by hour"
        },
        "xaxis": {
         "anchor": "y",
         "domain": [
          0,
          1
         ],
         "title": {
          "text": "timestamp"
         }
        },
        "yaxis": {
         "anchor": "x",
         "domain": [
          0,
          1
         ],
         "title": {
          "text": "customer_no"
         }
        }
       }
      }
     },
     "metadata": {},
     "output_type": "display_data"
    }
   ],
   "source": [
    "px.line(\n",
    "    checkout_by_hour,\n",
    "    x=checkout_by_hour.index,\n",
    "    y=\"customer_no\",\n",
    "    title=\"Customers at checkout by hour\",\n",
    "    template=\"simple_white\",\n",
    ")"
   ]
  },
  {
   "attachments": {},
   "cell_type": "markdown",
   "metadata": {},
   "source": [
    "\n",
    "### Calculate the time each customer spent in the market\n"
   ]
  },
  {
   "cell_type": "code",
   "execution_count": 12,
   "metadata": {},
   "outputs": [
    {
     "data": {
      "text/html": [
       "<div>\n",
       "<style scoped>\n",
       "    .dataframe tbody tr th:only-of-type {\n",
       "        vertical-align: middle;\n",
       "    }\n",
       "\n",
       "    .dataframe tbody tr th {\n",
       "        vertical-align: top;\n",
       "    }\n",
       "\n",
       "    .dataframe thead th {\n",
       "        text-align: right;\n",
       "    }\n",
       "</style>\n",
       "<table border=\"1\" class=\"dataframe\">\n",
       "  <thead>\n",
       "    <tr style=\"text-align: right;\">\n",
       "      <th></th>\n",
       "      <th></th>\n",
       "      <th>min</th>\n",
       "      <th>max</th>\n",
       "      <th>time</th>\n",
       "    </tr>\n",
       "  </thead>\n",
       "  <tbody>\n",
       "    <tr>\n",
       "      <th>0</th>\n",
       "      <td>10001</td>\n",
       "      <td>2019-09-02 07:02:00</td>\n",
       "      <td>2019-09-02 07:05:00</td>\n",
       "      <td>3.0</td>\n",
       "    </tr>\n",
       "    <tr>\n",
       "      <th>1</th>\n",
       "      <td>10002</td>\n",
       "      <td>2019-09-02 07:02:00</td>\n",
       "      <td>2019-09-02 07:06:00</td>\n",
       "      <td>4.0</td>\n",
       "    </tr>\n",
       "    <tr>\n",
       "      <th>2</th>\n",
       "      <td>10003</td>\n",
       "      <td>2019-09-02 07:03:00</td>\n",
       "      <td>2019-09-02 07:06:00</td>\n",
       "      <td>3.0</td>\n",
       "    </tr>\n",
       "    <tr>\n",
       "      <th>3</th>\n",
       "      <td>10004</td>\n",
       "      <td>2019-09-02 07:03:00</td>\n",
       "      <td>2019-09-02 07:08:00</td>\n",
       "      <td>5.0</td>\n",
       "    </tr>\n",
       "    <tr>\n",
       "      <th>4</th>\n",
       "      <td>10005</td>\n",
       "      <td>2019-09-02 07:03:00</td>\n",
       "      <td>2019-09-02 07:05:00</td>\n",
       "      <td>2.0</td>\n",
       "    </tr>\n",
       "  </tbody>\n",
       "</table>\n",
       "</div>"
      ],
      "text/plain": [
       "                         min                 max  time\n",
       "0  10001 2019-09-02 07:02:00 2019-09-02 07:05:00   3.0\n",
       "1  10002 2019-09-02 07:02:00 2019-09-02 07:06:00   4.0\n",
       "2  10003 2019-09-02 07:03:00 2019-09-02 07:06:00   3.0\n",
       "3  10004 2019-09-02 07:03:00 2019-09-02 07:08:00   5.0\n",
       "4  10005 2019-09-02 07:03:00 2019-09-02 07:05:00   2.0"
      ]
     },
     "execution_count": 12,
     "metadata": {},
     "output_type": "execute_result"
    }
   ],
   "source": [
    "# Calculate the time each customer spends in the supermarket (in minutes)\n",
    "customer_min_max_time = df.groupby(\"customer_no\")[[\"timestamp\"]].agg([min, max]).reset_index()\n",
    "customer_min_max_time.columns = customer_min_max_time.columns.droplevel(0)\n",
    "customer_min_max_time[\"time\"] = (customer_min_max_time[\"max\"] - customer_min_max_time[\"min\"]).astype('timedelta64[m]')\n",
    "customer_min_max_time.head()"
   ]
  },
  {
   "cell_type": "code",
   "execution_count": 13,
   "metadata": {},
   "outputs": [
    {
     "data": {
      "image/png": "[encoded data removed]",
      "text/plain": [
       "<Figure size 640x480 with 1 Axes>"
      ]
     },
     "metadata": {},
     "output_type": "display_data"
    }
   ],
   "source": [
    "sns.histplot(data=customer_min_max_time, x=\"time\", bins=int(customer_min_max_time[\"time\"].max()));"
   ]
  },
  {
   "attachments": {},
   "cell_type": "markdown",
   "metadata": {},
   "source": [
    "\n",
    "### Calculate the total number of customers in the supermarket over time.\n"
   ]
  },
  {
   "cell_type": "code",
   "execution_count": 14,
   "metadata": {},
   "outputs": [
    {
     "data": {
      "text/html": [
       "<div>\n",
       "<style scoped>\n",
       "    .dataframe tbody tr th:only-of-type {\n",
       "        vertical-align: middle;\n",
       "    }\n",
       "\n",
       "    .dataframe tbody tr th {\n",
       "        vertical-align: top;\n",
       "    }\n",
       "\n",
       "    .dataframe thead th {\n",
       "        text-align: right;\n",
       "    }\n",
       "</style>\n",
       "<table border=\"1\" class=\"dataframe\">\n",
       "  <thead>\n",
       "    <tr style=\"text-align: right;\">\n",
       "      <th></th>\n",
       "      <th>customer_no</th>\n",
       "    </tr>\n",
       "    <tr>\n",
       "      <th>timestamp</th>\n",
       "      <th></th>\n",
       "    </tr>\n",
       "  </thead>\n",
       "  <tbody>\n",
       "    <tr>\n",
       "      <th>2019-09-06 17:00:00</th>\n",
       "      <td>984</td>\n",
       "    </tr>\n",
       "    <tr>\n",
       "      <th>2019-09-06 18:00:00</th>\n",
       "      <td>1331</td>\n",
       "    </tr>\n",
       "    <tr>\n",
       "      <th>2019-09-06 19:00:00</th>\n",
       "      <td>1133</td>\n",
       "    </tr>\n",
       "    <tr>\n",
       "      <th>2019-09-06 20:00:00</th>\n",
       "      <td>802</td>\n",
       "    </tr>\n",
       "    <tr>\n",
       "      <th>2019-09-06 21:00:00</th>\n",
       "      <td>407</td>\n",
       "    </tr>\n",
       "  </tbody>\n",
       "</table>\n",
       "</div>"
      ],
      "text/plain": [
       "                     customer_no\n",
       "timestamp                       \n",
       "2019-09-06 17:00:00          984\n",
       "2019-09-06 18:00:00         1331\n",
       "2019-09-06 19:00:00         1133\n",
       "2019-09-06 20:00:00          802\n",
       "2019-09-06 21:00:00          407"
      ]
     },
     "execution_count": 14,
     "metadata": {},
     "output_type": "execute_result"
    }
   ],
   "source": [
    "customers_by_hour = (\n",
    "    df.set_index(\"timestamp\")[[\"customer_no\"]]\n",
    "    .resample(\"H\")\n",
    "    .count()\n",
    "    .reset_index()\n",
    "    .set_index(\"timestamp\")\n",
    ")\n",
    "customers_by_hour.tail()"
   ]
  },
  {
   "cell_type": "code",
   "execution_count": 15,
   "metadata": {},
   "outputs": [
    {
     "data": {
      "application/vnd.plotly.v1+json": {
       "config": {
        "plotlyServerURL": "https://plot.ly"
       },
       "data": [
        {
         "hovertemplate": "timestamp=%{x}<br>customer_no=%{y}<extra></extra>",
         "legendgroup": "",
         "line": {
          "color": "#1F77B4",
          "dash": "solid"
         },
         "marker": {
          "symbol": "circle"
         },
         "mode": "lines",
         "name": "",
         "orientation": "v",
         "showlegend": false,
         "type": "scatter",
         "x": [
          "2019-09-02T07:00:00",
          "2019-09-02T08:00:00",
          "2019-09-02T09:00:00",
          "2019-09-02T10:00:00",
          "2019-09-02T11:00:00",
          "2019-09-02T12:00:00",
          "2019-09-02T13:00:00",
          "2019-09-02T14:00:00",
          "2019-09-02T15:00:00",
          "2019-09-02T16:00:00",
          "2019-09-02T17:00:00",
          "2019-09-02T18:00:00",
          "2019-09-02T19:00:00",
          "2019-09-02T20:00:00",
          "2019-09-02T21:00:00",
          "2019-09-02T22:00:00",
          "2019-09-02T23:00:00",
          "2019-09-03T00:00:00",
          "2019-09-03T01:00:00",
          "2019-09-03T02:00:00",
          "2019-09-03T03:00:00",
          "2019-09-03T04:00:00",
          "2019-09-03T05:00:00",
          "2019-09-03T06:00:00",
          "2019-09-03T07:00:00",
          "2019-09-03T08:00:00",
          "2019-09-03T09:00:00",
          "2019-09-03T10:00:00",
          "2019-09-03T11:00:00",
          "2019-09-03T12:00:00",
          "2019-09-03T13:00:00",
          "2019-09-03T14:00:00",
          "2019-09-03T15:00:00",
          "2019-09-03T16:00:00",
          "2019-09-03T17:00:00",
          "2019-09-03T18:00:00",
          "2019-09-03T19:00:00",
          "2019-09-03T20:00:00",
          "2019-09-03T21:00:00",
          "2019-09-03T22:00:00",
          "2019-09-03T23:00:00",
          "2019-09-04T00:00:00",
          "2019-09-04T01:00:00",
          "2019-09-04T02:00:00",
          "2019-09-04T03:00:00",
          "2019-09-04T04:00:00",
          "2019-09-04T05:00:00",
          "2019-09-04T06:00:00",
          "2019-09-04T07:00:00",
          "2019-09-04T08:00:00",
          "2019-09-04T09:00:00",
          "2019-09-04T10:00:00",
          "2019-09-04T11:00:00",
          "2019-09-04T12:00:00",
          "2019-09-04T13:00:00",
          "2019-09-04T14:00:00",
          "2019-09-04T15:00:00",
          "2019-09-04T16:00:00",
          "2019-09-04T17:00:00",
          "2019-09-04T18:00:00",
          "2019-09-04T19:00:00",
          "2019-09-04T20:00:00",
          "2019-09-04T21:00:00",
          "2019-09-04T22:00:00",
          "2019-09-04T23:00:00",
          "2019-09-05T00:00:00",
          "2019-09-05T01:00:00",
          "2019-09-05T02:00:00",
          "2019-09-05T03:00:00",
          "2019-09-05T04:00:00",
          "2019-09-05T05:00:00",
          "2019-09-05T06:00:00",
          "2019-09-05T07:00:00",
          "2019-09-05T08:00:00",
          "2019-09-05T09:00:00",
          "2019-09-05T10:00:00",
          "2019-09-05T11:00:00",
          "2019-09-05T12:00:00",
          "2019-09-05T13:00:00",
          "2019-09-05T14:00:00",
          "2019-09-05T15:00:00",
          "2019-09-05T16:00:00",
          "2019-09-05T17:00:00",
          "2019-09-05T18:00:00",
          "2019-09-05T19:00:00",
          "2019-09-05T20:00:00",
          "2019-09-05T21:00:00",
          "2019-09-05T22:00:00",
          "2019-09-05T23:00:00",
          "2019-09-06T00:00:00",
          "2019-09-06T01:00:00",
          "2019-09-06T02:00:00",
          "2019-09-06T03:00:00",
          "2019-09-06T04:00:00",
          "2019-09-06T05:00:00",
          "2019-09-06T06:00:00",
          "2019-09-06T07:00:00",
          "2019-09-06T08:00:00",
          "2019-09-06T09:00:00",
          "2019-09-06T10:00:00",
          "2019-09-06T11:00:00",
          "2019-09-06T12:00:00",
          "2019-09-06T13:00:00",
          "2019-09-06T14:00:00",
          "2019-09-06T15:00:00",
          "2019-09-06T16:00:00",
          "2019-09-06T17:00:00",
          "2019-09-06T18:00:00",
          "2019-09-06T19:00:00",
          "2019-09-06T20:00:00",
          "2019-09-06T21:00:00"
         ],
         "xaxis": "x",
         "y": [
          783,
          943,
          777,
          757,
          441,
          688,
          1051,
          745,
          906,
          726,
          1015,
          1088,
          983,
          932,
          387,
          0,
          0,
          0,
          0,
          0,
          0,
          0,
          0,
          0,
          775,
          1162,
          622,
          634,
          331,
          479,
          852,
          815,
          584,
          987,
          910,
          1111,
          1021,
          750,
          514,
          0,
          0,
          0,
          0,
          0,
          0,
          0,
          0,
          6,
          707,
          1282,
          1045,
          682,
          714,
          622,
          862,
          888,
          591,
          778,
          752,
          747,
          1616,
          672,
          403,
          0,
          0,
          0,
          0,
          0,
          0,
          0,
          0,
          1,
          742,
          1105,
          771,
          813,
          565,
          631,
          745,
          749,
          665,
          993,
          938,
          1102,
          1395,
          848,
          591,
          0,
          0,
          0,
          0,
          0,
          0,
          0,
          0,
          3,
          728,
          1197,
          674,
          702,
          705,
          666,
          897,
          939,
          613,
          805,
          984,
          1331,
          1133,
          802,
          407
         ],
         "yaxis": "y"
        }
       ],
       "layout": {
        "legend": {
         "tracegroupgap": 0
        },
        "template": {
         "data": {
          "bar": [
           {
            "error_x": {
             "color": "rgb(36,36,36)"
            },
            "error_y": {
             "color": "rgb(36,36,36)"
            },
            "marker": {
             "line": {
              "color": "white",
              "width": 0.5
             },
             "pattern": {
              "fillmode": "overlay",
              "size": 10,
              "solidity": 0.2
             }
            },
            "type": "bar"
           }
          ],
          "barpolar": [
           {
            "marker": {
             "line": {
              "color": "white",
              "width": 0.5
             },
             "pattern": {
              "fillmode": "overlay",
              "size": 10,
              "solidity": 0.2
             }
            },
            "type": "barpolar"
           }
          ],
          "carpet": [
           {
            "aaxis": {
             "endlinecolor": "rgb(36,36,36)",
             "gridcolor": "white",
             "linecolor": "white",
             "minorgridcolor": "white",
             "startlinecolor": "rgb(36,36,36)"
            },
            "baxis": {
             "endlinecolor": "rgb(36,36,36)",
             "gridcolor": "white",
             "linecolor": "white",
             "minorgridcolor": "white",
             "startlinecolor": "rgb(36,36,36)"
            },
            "type": "carpet"
           }
          ],
          "choropleth": [
           {
            "colorbar": {
             "outlinewidth": 1,
             "tickcolor": "rgb(36,36,36)",
             "ticks": "outside"
            },
            "type": "choropleth"
           }
          ],
          "contour": [
           {
            "colorbar": {
             "outlinewidth": 1,
             "tickcolor": "rgb(36,36,36)",
             "ticks": "outside"
            },
            "colorscale": [
             [
              0,
              "#440154"
             ],
             [
              0.1111111111111111,
              "#482878"
             ],
             [
              0.2222222222222222,
              "#3e4989"
             ],
             [
              0.3333333333333333,
              "#31688e"
             ],
             [
              0.4444444444444444,
              "#26828e"
             ],
             [
              0.5555555555555556,
              "#1f9e89"
             ],
             [
              0.6666666666666666,
              "#35b779"
             ],
             [
              0.7777777777777778,
              "#6ece58"
             ],
             [
              0.8888888888888888,
              "#b5de2b"
             ],
             [
              1,
              "#fde725"
             ]
            ],
            "type": "contour"
           }
          ],
          "contourcarpet": [
           {
            "colorbar": {
             "outlinewidth": 1,
             "tickcolor": "rgb(36,36,36)",
             "ticks": "outside"
            },
            "type": "contourcarpet"
           }
          ],
          "heatmap": [
           {
            "colorbar": {
             "outlinewidth": 1,
             "tickcolor": "rgb(36,36,36)",
             "ticks": "outside"
            },
            "colorscale": [
             [
              0,
              "#440154"
             ],
             [
              0.1111111111111111,
              "#482878"
             ],
             [
              0.2222222222222222,
              "#3e4989"
             ],
             [
              0.3333333333333333,
              "#31688e"
             ],
             [
              0.4444444444444444,
              "#26828e"
             ],
             [
              0.5555555555555556,
              "#1f9e89"
             ],
             [
              0.6666666666666666,
              "#35b779"
             ],
             [
              0.7777777777777778,
              "#6ece58"
             ],
             [
              0.8888888888888888,
              "#b5de2b"
             ],
             [
              1,
              "#fde725"
             ]
            ],
            "type": "heatmap"
           }
          ],
          "heatmapgl": [
           {
            "colorbar": {
             "outlinewidth": 1,
             "tickcolor": "rgb(36,36,36)",
             "ticks": "outside"
            },
            "colorscale": [
             [
              0,
              "#440154"
             ],
             [
              0.1111111111111111,
              "#482878"
             ],
             [
              0.2222222222222222,
              "#3e4989"
             ],
             [
              0.3333333333333333,
              "#31688e"
             ],
             [
              0.4444444444444444,
              "#26828e"
             ],
             [
              0.5555555555555556,
              "#1f9e89"
             ],
             [
              0.6666666666666666,
              "#35b779"
             ],
             [
              0.7777777777777778,
              "#6ece58"
             ],
             [
              0.8888888888888888,
              "#b5de2b"
             ],
             [
              1,
              "#fde725"
             ]
            ],
            "type": "heatmapgl"
           }
          ],
          "histogram": [
           {
            "marker": {
             "line": {
              "color": "white",
              "width": 0.6
             }
            },
            "type": "histogram"
           }
          ],
          "histogram2d": [
           {
            "colorbar": {
             "outlinewidth": 1,
             "tickcolor": "rgb(36,36,36)",
             "ticks": "outside"
            },
            "colorscale": [
             [
              0,
              "#440154"
             ],
             [
              0.1111111111111111,
              "#482878"
             ],
             [
              0.2222222222222222,
              "#3e4989"
             ],
             [
              0.3333333333333333,
              "#31688e"
             ],
             [
              0.4444444444444444,
              "#26828e"
             ],
             [
              0.5555555555555556,
              "#1f9e89"
             ],
             [
              0.6666666666666666,
              "#35b779"
             ],
             [
              0.7777777777777778,
              "#6ece58"
             ],
             [
              0.8888888888888888,
              "#b5de2b"
             ],
             [
              1,
              "#fde725"
             ]
            ],
            "type": "histogram2d"
           }
          ],
          "histogram2dcontour": [
           {
            "colorbar": {
             "outlinewidth": 1,
             "tickcolor": "rgb(36,36,36)",
             "ticks": "outside"
            },
            "colorscale": [
             [
              0,
              "#440154"
             ],
             [
              0.1111111111111111,
              "#482878"
             ],
             [
              0.2222222222222222,
              "#3e4989"
             ],
             [
              0.3333333333333333,
              "#31688e"
             ],
             [
              0.4444444444444444,
              "#26828e"
             ],
             [
              0.5555555555555556,
              "#1f9e89"
             ],
             [
              0.6666666666666666,
              "#35b779"
             ],
             [
              0.7777777777777778,
              "#6ece58"
             ],
             [
              0.8888888888888888,
              "#b5de2b"
             ],
             [
              1,
              "#fde725"
             ]
            ],
            "type": "histogram2dcontour"
           }
          ],
          "mesh3d": [
           {
            "colorbar": {
             "outlinewidth": 1,
             "tickcolor": "rgb(36,36,36)",
             "ticks": "outside"
            },
            "type": "mesh3d"
           }
          ],
          "parcoords": [
           {
            "line": {
             "colorbar": {
              "outlinewidth": 1,
              "tickcolor": "rgb(36,36,36)",
              "ticks": "outside"
             }
            },
            "type": "parcoords"
           }
          ],
          "pie": [
           {
            "automargin": true,
            "type": "pie"
           }
          ],
          "scatter": [
           {
            "fillpattern": {
             "fillmode": "overlay",
             "size": 10,
             "solidity": 0.2
            },
            "type": "scatter"
           }
          ],
          "scatter3d": [
           {
            "line": {
             "colorbar": {
              "outlinewidth": 1,
              "tickcolor": "rgb(36,36,36)",
              "ticks": "outside"
             }
            },
            "marker": {
             "colorbar": {
              "outlinewidth": 1,
              "tickcolor": "rgb(36,36,36)",
              "ticks": "outside"
             }
            },
            "type": "scatter3d"
           }
          ],
          "scattercarpet": [
           {
            "marker": {
             "colorbar": {
              "outlinewidth": 1,
              "tickcolor": "rgb(36,36,36)",
              "ticks": "outside"
             }
            },
            "type": "scattercarpet"
           }
          ],
          "scattergeo": [
           {
            "marker": {
             "colorbar": {
              "outlinewidth": 1,
              "tickcolor": "rgb(36,36,36)",
              "ticks": "outside"
             }
            },
            "type": "scattergeo"
           }
          ],
          "scattergl": [
           {
            "marker": {
             "colorbar": {
              "outlinewidth": 1,
              "tickcolor": "rgb(36,36,36)",
              "ticks": "outside"
             }
            },
            "type": "scattergl"
           }
          ],
          "scattermapbox": [
           {
            "marker": {
             "colorbar": {
              "outlinewidth": 1,
              "tickcolor": "rgb(36,36,36)",
              "ticks": "outside"
             }
            },
            "type": "scattermapbox"
           }
          ],
          "scatterpolar": [
           {
            "marker": {
             "colorbar": {
              "outlinewidth": 1,
              "tickcolor": "rgb(36,36,36)",
              "ticks": "outside"
             }
            },
            "type": "scatterpolar"
           }
          ],
          "scatterpolargl": [
           {
            "marker": {
             "colorbar": {
              "outlinewidth": 1,
              "tickcolor": "rgb(36,36,36)",
              "ticks": "outside"
             }
            },
            "type": "scatterpolargl"
           }
          ],
          "scatterternary": [
           {
            "marker": {
             "colorbar": {
              "outlinewidth": 1,
              "tickcolor": "rgb(36,36,36)",
              "ticks": "outside"
             }
            },
            "type": "scatterternary"
           }
          ],
          "surface": [
           {
            "colorbar": {
             "outlinewidth": 1,
             "tickcolor": "rgb(36,36,36)",
             "ticks": "outside"
            },
            "colorscale": [
             [
              0,
              "#440154"
             ],
             [
              0.1111111111111111,
              "#482878"
             ],
             [
              0.2222222222222222,
              "#3e4989"
             ],
             [
              0.3333333333333333,
              "#31688e"
             ],
             [
              0.4444444444444444,
              "#26828e"
             ],
             [
              0.5555555555555556,
              "#1f9e89"
             ],
             [
              0.6666666666666666,
              "#35b779"
             ],
             [
              0.7777777777777778,
              "#6ece58"
             ],
             [
              0.8888888888888888,
              "#b5de2b"
             ],
             [
              1,
              "#fde725"
             ]
            ],
            "type": "surface"
           }
          ],
          "table": [
           {
            "cells": {
             "fill": {
              "color": "rgb(237,237,237)"
             },
             "line": {
              "color": "white"
             }
            },
            "header": {
             "fill": {
              "color": "rgb(217,217,217)"
             },
             "line": {
              "color": "white"
             }
            },
            "type": "table"
           }
          ]
         },
         "layout": {
          "annotationdefaults": {
           "arrowhead": 0,
           "arrowwidth": 1
          },
          "autotypenumbers": "strict",
          "coloraxis": {
           "colorbar": {
            "outlinewidth": 1,
            "tickcolor": "rgb(36,36,36)",
            "ticks": "outside"
           }
          },
          "colorscale": {
           "diverging": [
            [
             0,
             "rgb(103,0,31)"
            ],
            [
             0.1,
             "rgb(178,24,43)"
            ],
            [
             0.2,
             "rgb(214,96,77)"
            ],
            [
             0.3,
             "rgb(244,165,130)"
            ],
            [
             0.4,
             "rgb(253,219,199)"
            ],
            [
             0.5,
             "rgb(247,247,247)"
            ],
            [
             0.6,
             "rgb(209,229,240)"
            ],
            [
             0.7,
             "rgb(146,197,222)"
            ],
            [
             0.8,
             "rgb(67,147,195)"
            ],
            [
             0.9,
             "rgb(33,102,172)"
            ],
            [
             1,
             "rgb(5,48,97)"
            ]
           ],
           "sequential": [
            [
             0,
             "#440154"
            ],
            [
             0.1111111111111111,
             "#482878"
            ],
            [
             0.2222222222222222,
             "#3e4989"
            ],
            [
             0.3333333333333333,
             "#31688e"
            ],
            [
             0.4444444444444444,
             "#26828e"
            ],
            [
             0.5555555555555556,
             "#1f9e89"
            ],
            [
             0.6666666666666666,
             "#35b779"
            ],
            [
             0.7777777777777778,
             "#6ece58"
            ],
            [
             0.8888888888888888,
             "#b5de2b"
            ],
            [
             1,
             "#fde725"
            ]
           ],
           "sequentialminus": [
            [
             0,
             "#440154"
            ],
            [
             0.1111111111111111,
             "#482878"
            ],
            [
             0.2222222222222222,
             "#3e4989"
            ],
            [
             0.3333333333333333,
             "#31688e"
            ],
            [
             0.4444444444444444,
             "#26828e"
            ],
            [
             0.5555555555555556,
             "#1f9e89"
            ],
            [
             0.6666666666666666,
             "#35b779"
            ],
            [
             0.7777777777777778,
             "#6ece58"
            ],
            [
             0.8888888888888888,
             "#b5de2b"
            ],
            [
             1,
             "#fde725"
            ]
           ]
          },
          "colorway": [
           "#1F77B4",
           "#FF7F0E",
           "#2CA02C",
           "#D62728",
           "#9467BD",
           "#8C564B",
           "#E377C2",
           "#7F7F7F",
           "#BCBD22",
           "#17BECF"
          ],
          "font": {
           "color": "rgb(36,36,36)"
          },
          "geo": {
           "bgcolor": "white",
           "lakecolor": "white",
           "landcolor": "white",
           "showlakes": true,
           "showland": true,
           "subunitcolor": "white"
          },
          "hoverlabel": {
           "align": "left"
          },
          "hovermode": "closest",
          "mapbox": {
           "style": "light"
          },
          "paper_bgcolor": "white",
          "plot_bgcolor": "white",
          "polar": {
           "angularaxis": {
            "gridcolor": "rgb(232,232,232)",
            "linecolor": "rgb(36,36,36)",
            "showgrid": false,
            "showline": true,
            "ticks": "outside"
           },
           "bgcolor": "white",
           "radialaxis": {
            "gridcolor": "rgb(232,232,232)",
            "linecolor": "rgb(36,36,36)",
            "showgrid": false,
            "showline": true,
            "ticks": "outside"
           }
          },
          "scene": {
           "xaxis": {
            "backgroundcolor": "white",
            "gridcolor": "rgb(232,232,232)",
            "gridwidth": 2,
            "linecolor": "rgb(36,36,36)",
            "showbackground": true,
            "showgrid": false,
            "showline": true,
            "ticks": "outside",
            "zeroline": false,
            "zerolinecolor": "rgb(36,36,36)"
           },
           "yaxis": {
            "backgroundcolor": "white",
            "gridcolor": "rgb(232,232,232)",
            "gridwidth": 2,
            "linecolor": "rgb(36,36,36)",
            "showbackground": true,
            "showgrid": false,
            "showline": true,
            "ticks": "outside",
            "zeroline": false,
            "zerolinecolor": "rgb(36,36,36)"
           },
           "zaxis": {
            "backgroundcolor": "white",
            "gridcolor": "rgb(232,232,232)",
            "gridwidth": 2,
            "linecolor": "rgb(36,36,36)",
            "showbackground": true,
            "showgrid": false,
            "showline": true,
            "ticks": "outside",
            "zeroline": false,
            "zerolinecolor": "rgb(36,36,36)"
           }
          },
          "shapedefaults": {
           "fillcolor": "black",
           "line": {
            "width": 0
           },
           "opacity": 0.3
          },
          "ternary": {
           "aaxis": {
            "gridcolor": "rgb(232,232,232)",
            "linecolor": "rgb(36,36,36)",
            "showgrid": false,
            "showline": true,
            "ticks": "outside"
           },
           "baxis": {
            "gridcolor": "rgb(232,232,232)",
            "linecolor": "rgb(36,36,36)",
            "showgrid": false,
            "showline": true,
            "ticks": "outside"
           },
           "bgcolor": "white",
           "caxis": {
            "gridcolor": "rgb(232,232,232)",
            "linecolor": "rgb(36,36,36)",
            "showgrid": false,
            "showline": true,
            "ticks": "outside"
           }
          },
          "title": {
           "x": 0.05
          },
          "xaxis": {
           "automargin": true,
           "gridcolor": "rgb(232,232,232)",
           "linecolor": "rgb(36,36,36)",
           "showgrid": false,
           "showline": true,
           "ticks": "outside",
           "title": {
            "standoff": 15
           },
           "zeroline": false,
           "zerolinecolor": "rgb(36,36,36)"
          },
          "yaxis": {
           "automargin": true,
           "gridcolor": "rgb(232,232,232)",
           "linecolor": "rgb(36,36,36)",
           "showgrid": false,
           "showline": true,
           "ticks": "outside",
           "title": {
            "standoff": 15
           },
           "zeroline": false,
           "zerolinecolor": "rgb(36,36,36)"
          }
         }
        },
        "title": {
         "text": "Total number of customers in the store (by hour)"
        },
        "xaxis": {
         "anchor": "y",
         "domain": [
          0,
          1
         ],
         "title": {
          "text": "timestamp"
         }
        },
        "yaxis": {
         "anchor": "x",
         "domain": [
          0,
          1
         ],
         "title": {
          "text": "customer_no"
         }
        }
       }
      }
     },
     "metadata": {},
     "output_type": "display_data"
    }
   ],
   "source": [
    "px.line(\n",
    "    customers_by_hour,\n",
    "    x=customers_by_hour.index,\n",
    "    y=\"customer_no\",\n",
    "    title=\"Total number of customers in the store (by hour)\",\n",
    "    template=\"simple_white\",\n",
    ")"
   ]
  },
  {
   "attachments": {},
   "cell_type": "markdown",
   "metadata": {},
   "source": [
    "\n",
    "### Our business managers think that the first section customers visit follows a different pattern than the following ones. Plot the distribution of customers of their first visited section versus following sections (treat all sections visited after the first as “following”).\n"
   ]
  },
  {
   "cell_type": "code",
   "execution_count": 16,
   "metadata": {},
   "outputs": [],
   "source": [
    "# Remove entrance and checkout\n",
    "df_sections = df[df[\"location\"].isin([\"dairy\", \"drinks\", \"fruit\", \"spices\"])]\n",
    "\n",
    "# Get first section\n",
    "first_section = df_sections.groupby(\"customer_no\").first().reset_index().copy()\n",
    "\n",
    "# Get all others\n",
    "following_sections = df_sections[~df_sections.index.isin(first_section.index)]"
   ]
  },
  {
   "cell_type": "code",
   "execution_count": 17,
   "metadata": {},
   "outputs": [
    {
     "data": {
      "image/png": "[encoded data removed]",
      "text/plain": [
       "<Figure size 640x480 with 1 Axes>"
      ]
     },
     "metadata": {},
     "output_type": "display_data"
    }
   ],
   "source": [
    "sns.countplot(\n",
    "    x=\"location\",\n",
    "    data=first_section,\n",
    "    palette=\"magma\",\n",
    "    order=[\"dairy\", \"spices\", \"fruit\", \"drinks\"],\n",
    ")\n",
    "plt.title(\"Section visited first\")\n",
    "sns.despine()\n",
    "plt.show()"
   ]
  },
  {
   "cell_type": "code",
   "execution_count": 18,
   "metadata": {},
   "outputs": [
    {
     "data": {
      "image/png": "[encoded data removed]",
      "text/plain": [
       "<Figure size 640x480 with 1 Axes>"
      ]
     },
     "metadata": {},
     "output_type": "display_data"
    }
   ],
   "source": [
    "sns.countplot(\n",
    "    x=\"location\",\n",
    "    data=following_sections,\n",
    "    palette=\"magma\",\n",
    "    order=[\"dairy\", \"spices\", \"fruit\", \"drinks\"],\n",
    ")\n",
    "plt.title(\"Following sections\")\n",
    "sns.despine()\n",
    "plt.show()"
   ]
  }
 ],
 "metadata": {
  "kernelspec": {
   "display_name": "jupyter",
   "language": "python",
   "name": "python3"
  },
  "language_info": {
   "codemirror_mode": {
    "name": "ipython",
    "version": 3
   },
   "file_extension": ".py",
   "mimetype": "text/x-python",
   "name": "python",
   "nbconvert_exporter": "python",
   "pygments_lexer": "ipython3",
   "version": "3.10.9"
  },
  "orig_nbformat": 4
 },
 "nbformat": 4,
 "nbformat_minor": 2
}
