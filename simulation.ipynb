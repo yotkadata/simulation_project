{
 "cells": [
  {
   "cell_type": "code",
   "execution_count": null,
   "metadata": {},
   "outputs": [],
   "source": [
    "import numpy as np\n",
    "import pandas as pd"
   ]
  },
  {
   "cell_type": "code",
   "execution_count": null,
   "metadata": {},
   "outputs": [],
   "source": [
    "class Customer:\n",
    "    \"\"\"\n",
    "    A single customer that moves through the supermarket\n",
    "    in a MCMC simulation.\n",
    "    \"\"\"\n",
    "\n",
    "    def __init__(self, id, name, t_probs, section=\"entrance\"):\n",
    "        self.id = id\n",
    "        self.name = name\n",
    "        self.t_probs = t_probs\n",
    "        self.section = section\n",
    "\n",
    "    def __repr__(self):\n",
    "        return f\"<Customer {self.name} (ID: {self.id}), currently in section '{self.section}'>\"\n",
    "\n",
    "    def next_section(self):\n",
    "        \"\"\"\n",
    "        Propagates the customer to the next state.\n",
    "        Returns nothing.\n",
    "        \"\"\"\n",
    "        current = self.section\n",
    "        self.section = np.random.choice(self.t_probs.columns, p=self.t_probs.loc[self.section])\n",
    "\n",
    "        if self.is_active():\n",
    "            print(f\"{self.name} moved from {current} to {self.section}.\")\n",
    "        else:\n",
    "            print(f\"{self.name} left the store.\")  # TODO: Remove customer\n",
    "\n",
    "    def is_active(self):\n",
    "        \"\"\"\n",
    "        Returns True if the customer has not reached the checkout yet.\n",
    "        \"\"\"\n",
    "\n",
    "        return self.section != \"checkout\""
   ]
  },
  {
   "cell_type": "code",
   "execution_count": null,
   "metadata": {},
   "outputs": [],
   "source": [
    "probs = pd.read_csv(\"data/transition_probabilities.csv\", index_col=[0])\n",
    "probs"
   ]
  },
  {
   "cell_type": "code",
   "execution_count": null,
   "metadata": {},
   "outputs": [],
   "source": [
    "jack = Customer(10001, \"Jack Sparrow\", probs)"
   ]
  },
  {
   "cell_type": "code",
   "execution_count": null,
   "metadata": {},
   "outputs": [],
   "source": [
    "jack.next_section()"
   ]
  },
  {
   "cell_type": "code",
   "execution_count": null,
   "metadata": {},
   "outputs": [],
   "source": [
    "df = pd.read_csv(\"data/data_clean.csv\", index_col=0, parse_dates=[2])\n"
   ]
  },
  {
   "attachments": {},
   "cell_type": "markdown",
   "metadata": {},
   "source": [
    "## Get a list of customer entries"
   ]
  },
  {
   "cell_type": "code",
   "execution_count": null,
   "metadata": {},
   "outputs": [],
   "source": [
    "df_times = (\n",
    "    df.groupby(\"customer_no\")\n",
    "    .first()\n",
    "    .set_index(\"timestamp\")\n",
    "    .resample(\"1min\")\n",
    "    .count()\n",
    "    .reset_index()\n",
    "    .copy()\n",
    ")\n",
    "df_times.columns = [\"timestamp\", \"new_customers\"]\n",
    "df_times = df_times[df_times[\"timestamp\"].dt.hour.between(7, 21)].reset_index(drop=True)\n",
    "df_times.to_csv(\"data/entry_times.csv\")\n",
    "df_times"
   ]
  }
 ],
 "metadata": {
  "kernelspec": {
   "display_name": "jupyter",
   "language": "python",
   "name": "python3"
  },
  "language_info": {
   "codemirror_mode": {
    "name": "ipython",
    "version": 3
   },
   "file_extension": ".py",
   "mimetype": "text/x-python",
   "name": "python",
   "nbconvert_exporter": "python",
   "pygments_lexer": "ipython3",
   "version": "3.10.9"
  },
  "orig_nbformat": 4
 },
 "nbformat": 4,
 "nbformat_minor": 2
}
