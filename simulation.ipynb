{
 "cells": [
  {
   "cell_type": "code",
   "execution_count": null,
   "metadata": {},
   "outputs": [],
   "source": [
    "import numpy as np\n",
    "import pandas as pd"
   ]
  },
  {
   "cell_type": "code",
   "execution_count": null,
   "metadata": {},
   "outputs": [],
   "source": [
    "class Customer:\n",
    "    \"\"\"\n",
    "    A single customer that moves through the supermarket\n",
    "    in a MCMC simulation.\n",
    "    \"\"\"\n",
    "\n",
    "    def __init__(self, id, name, t_probs, section=\"entrance\"):\n",
    "        self.id = id\n",
    "        self.name = name\n",
    "        self.t_probs = t_probs\n",
    "        self.section = section\n",
    "\n",
    "    def __repr__(self):\n",
    "        return f\"<Customer {self.name} (ID: {self.id}), currently in section '{self.section}'>\"\n",
    "\n",
    "    def next_section(self):\n",
    "        \"\"\"\n",
    "        Propagates the customer to the next state.\n",
    "        Returns nothing.\n",
    "        \"\"\"\n",
    "        current = self.section\n",
    "        self.section = np.random.choice(self.t_probs.columns, p=self.t_probs.loc[self.section])\n",
    "\n",
    "        if self.is_active():\n",
    "            print(f\"{self.name} moved from {current} to {self.section}.\")\n",
    "        else:\n",
    "            print(f\"{self.name} left the store.\")  # TODO: Remove customer\n",
    "\n",
    "    def is_active(self):\n",
    "        \"\"\"\n",
    "        Returns True if the customer has not reached the checkout yet.\n",
    "        \"\"\"\n",
    "\n",
    "        return self.section != \"checkout\""
   ]
  },
  {
   "cell_type": "code",
   "execution_count": null,
   "metadata": {},
   "outputs": [],
   "source": [
    "class Supermarket:\n",
    "    \"\"\"manages multiple Customer instances that are currently in the market.\n",
    "    \"\"\"\n",
    "\n",
    "    def __init__(self, name):        \n",
    "        # a list of Customer objects\n",
    "        self.name = name\n",
    "        self.customers = []\n",
    "        self.minutes = 0\n",
    "        self.last_id = 0\n",
    "\n",
    "    def __repr__(self):\n",
    "        return f'Name of the supermarket is {self.name}'\n",
    "\n",
    "    def add_new_customer(self, new_customer):\n",
    "        \"\"\"randomly creates new customers.\n",
    "        \"\"\"\n",
    "        assert isinstance(new_customer, Customer)\n",
    "        self.customers.append(new_customer) \n",
    "    \n",
    "    def print_customers(self):\n",
    "        \"\"\"print all customers with the current time and id in CSV format.\n",
    "        \"\"\"\n",
    "        for c in self.customers:\n",
    "            print(c.name, c.id)\n",
    "            \n",
    "    def get_time(self):\n",
    "        \"\"\"current time in HH:MM format,\n",
    "        \"\"\"\n",
    "        return None\n",
    "\n",
    "    def next_minute(self):\n",
    "        \"\"\"propagates all customers to the next state.\n",
    "        \"\"\"\n",
    "        return None\n",
    "    \n",
    "\n",
    "        "
   ]
  },
  {
   "cell_type": "code",
   "execution_count": null,
   "metadata": {},
   "outputs": [],
   "source": [
    "probs = pd.read_csv(\"data/transition_probabilities.csv\", index_col=[0])\n",
    "probs"
   ]
  },
  {
   "cell_type": "code",
   "execution_count": null,
   "metadata": {},
   "outputs": [],
   "source": [
    "netto = Supermarket(\"Netto\")\n",
    "\n",
    "nils = Customer(78, \"Nils\", probs)\n",
    "jack = Customer(10001, \"Jack Sparrow\", probs)"
   ]
  },
  {
   "cell_type": "code",
   "execution_count": null,
   "metadata": {},
   "outputs": [],
   "source": [
    "netto.add_new_customer(jack)\n",
    "netto.add_new_customer(nils)"
   ]
  },
  {
   "cell_type": "code",
   "execution_count": null,
   "metadata": {},
   "outputs": [],
   "source": [
    "netto.print_customers()"
   ]
  },
  {
   "cell_type": "markdown",
   "metadata": {},
   "source": [
    "## Get a list of customer entries"
   ]
  },
  {
   "cell_type": "code",
   "execution_count": null,
   "metadata": {},
   "outputs": [],
   "source": [
    "df = pd.read_csv(\"data/data_clean.csv\", index_col=0, parse_dates=[2])\n"
   ]
  },
  {
   "cell_type": "code",
   "execution_count": null,
   "metadata": {},
   "outputs": [],
   "source": [
    "df_times = (\n",
    "    df.groupby(\"customer_no\")\n",
    "    .first()\n",
    "    .set_index(\"timestamp\")\n",
    "    .resample(\"1min\")\n",
    "    .count()\n",
    "    .reset_index()\n",
    "    .copy()\n",
    ")\n",
    "df_times.columns = [\"timestamp\", \"new_customers\"]\n",
    "df_times = df_times[df_times[\"timestamp\"].dt.hour.between(7, 21)].reset_index(drop=True)\n",
    "# df_times.to_csv(\"data/entry_times.csv\")\n",
    "df_times"
   ]
  }
 ],
 "metadata": {
  "kernelspec": {
   "display_name": "Python 3 (ipykernel)",
   "language": "python",
   "name": "python3"
  },
  "language_info": {
   "codemirror_mode": {
    "name": "ipython",
    "version": 3
   },
   "file_extension": ".py",
   "mimetype": "text/x-python",
   "name": "python",
   "nbconvert_exporter": "python",
   "pygments_lexer": "ipython3",
   "version": "3.10.11"
  }
 },
 "nbformat": 4,
 "nbformat_minor": 2
}
