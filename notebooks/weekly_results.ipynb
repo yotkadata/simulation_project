{
 "cells": [
  {
   "cell_type": "markdown",
   "id": "30315e16",
   "metadata": {},
   "source": [
    "# Exploratory Data Analysis of Markov Simulation Project - Weekly data"
   ]
  },
  {
   "cell_type": "code",
   "execution_count": null,
   "id": "e4f7a445",
   "metadata": {},
   "outputs": [],
   "source": [
    "import matplotlib.pyplot as plt\n",
    "import pandas as pd\n",
    "import seaborn as sns"
   ]
  },
  {
   "cell_type": "code",
   "execution_count": null,
   "id": "cf6724f4",
   "metadata": {},
   "outputs": [],
   "source": [
    "df = pd.read_csv(\"../data/weekly/data_clean.csv\", parse_dates=[\"timestamp\"], index_col=0)\n",
    "df.tail()"
   ]
  },
  {
   "cell_type": "code",
   "execution_count": null,
   "id": "3794e578",
   "metadata": {},
   "outputs": [],
   "source": [
    "def map_day(number):\n",
    "    first_digit = int(str(number)[0])\n",
    "    if first_digit == 1:\n",
    "        return \"Monday\"\n",
    "    elif first_digit == 2:\n",
    "        return \"Tuesday\"\n",
    "    elif first_digit == 3:\n",
    "        return \"Wednesday\"\n",
    "    elif first_digit == 4:\n",
    "        return \"Thursday\"\n",
    "    elif first_digit == 5:\n",
    "        return \"Friday\"\n",
    "    else:\n",
    "        return \"Unknown\"  # Add an 'Unknown' category for other values\n",
    "\n",
    "\n",
    "# Apply the mapping function to create the week_day column\n",
    "df[\"week_day\"] = df[\"customer_no\"].map(map_day)"
   ]
  },
  {
   "cell_type": "code",
   "execution_count": null,
   "id": "38b84907",
   "metadata": {},
   "outputs": [],
   "source": [
    "df"
   ]
  },
  {
   "cell_type": "code",
   "execution_count": null,
   "id": "4b804c5e",
   "metadata": {},
   "outputs": [],
   "source": [
    "df[\"hour\"] = pd.to_datetime(df[\"timestamp\"]).dt.hour\n",
    "df[\"minute\"] = pd.to_datetime(df[\"timestamp\"]).dt.minute\n",
    "df"
   ]
  },
  {
   "cell_type": "code",
   "execution_count": null,
   "id": "137b737a",
   "metadata": {},
   "outputs": [],
   "source": [
    "df_customer_section = df.groupby([\"week_day\", \"location\"])[\"customer_no\"].nunique()\n",
    "df_customer_section"
   ]
  },
  {
   "cell_type": "code",
   "execution_count": null,
   "id": "c8148c45",
   "metadata": {},
   "outputs": [],
   "source": [
    "# Group the data by hours and sections, count the number of unique customers in each group\n",
    "grouped_data_all = (\n",
    "    df.groupby([\"hour\", \"location\"])[\"customer_no\"].nunique().reset_index()\n",
    ")\n",
    "grouped_data_all"
   ]
  },
  {
   "cell_type": "markdown",
   "id": "fbd1a73d",
   "metadata": {},
   "source": [
    "## The total number of customers in each section over the time in a week."
   ]
  },
  {
   "cell_type": "code",
   "execution_count": null,
   "id": "eb4be298",
   "metadata": {
    "scrolled": true
   },
   "outputs": [],
   "source": [
    "# sns.set(style=\"darkgrid\")\n",
    "sns.set_theme(style=\"white\")\n",
    "plt.figure(figsize=(10, 5))\n",
    "sns.lineplot(data=grouped_data_all, x=\"hour\", y=\"customer_no\", hue=\"location\")\n",
    "plt.xlabel(\"Time in Hours\")\n",
    "plt.ylabel(\"Frequency of Customers\")\n",
    "plt.legend(bbox_to_anchor=(1.02, 1), loc=\"upper left\", borderaxespad=0)"
   ]
  },
  {
   "cell_type": "markdown",
   "id": "8b4ddfec",
   "metadata": {},
   "source": [
    "## The number of customers in each section over time in each weekday."
   ]
  },
  {
   "cell_type": "code",
   "execution_count": null,
   "id": "cd8ec8bd",
   "metadata": {},
   "outputs": [],
   "source": [
    "grouped_data_weekly = (\n",
    "    df.groupby([\"hour\", \"week_day\", \"location\"])[\"customer_no\"].nunique().reset_index()\n",
    ")\n",
    "grouped_data_weekly"
   ]
  },
  {
   "cell_type": "code",
   "execution_count": null,
   "id": "c2e0c031",
   "metadata": {},
   "outputs": [],
   "source": [
    "weekday_order = [\"Monday\", \"Tuesday\", \"Wednesday\", \"Thursday\", \"Friday\"]"
   ]
  },
  {
   "cell_type": "code",
   "execution_count": null,
   "id": "ffb6f23b",
   "metadata": {},
   "outputs": [],
   "source": [
    "sns.set_theme(style=\"white\")\n",
    "g = sns.FacetGrid(grouped_data_weekly, col=\"week_day\", col_wrap=3, height=4, aspect=1.2)\n",
    "g.map(sns.lineplot, \"hour\", \"customer_no\", \"location\")\n",
    "g.set_axis_labels(\"Time in Hours\", \"Frequency of Customers\")\n",
    "g.add_legend(title=\"Location\")\n",
    "plt.tight_layout()\n",
    "plt.show()"
   ]
  },
  {
   "cell_type": "markdown",
   "id": "d16e620a",
   "metadata": {},
   "source": [
    "## Transtion probabilities for each weekday"
   ]
  },
  {
   "cell_type": "markdown",
   "id": "371d8750",
   "metadata": {},
   "source": [
    "### Monday transition probabilities"
   ]
  },
  {
   "cell_type": "code",
   "execution_count": null,
   "id": "d45a5208",
   "metadata": {
    "scrolled": true
   },
   "outputs": [],
   "source": [
    "df_mon = df[df[\"week_day\"] == \"Monday\"].copy()\n",
    "df_mon.tail()"
   ]
  },
  {
   "cell_type": "code",
   "execution_count": null,
   "id": "ffc9f168",
   "metadata": {},
   "outputs": [],
   "source": [
    "df_mon[\"loc_next\"] = df_mon.groupby(\"customer_no\")[\"location\"].shift(-1)\n",
    "df_mon"
   ]
  },
  {
   "cell_type": "code",
   "execution_count": null,
   "id": "8f261b66",
   "metadata": {},
   "outputs": [],
   "source": [
    "P_mon = pd.crosstab(\n",
    "    index=df_mon[\"location\"],\n",
    "    columns=df_mon[\"loc_next\"],\n",
    "    normalize=\"index\",\n",
    ")\n",
    "\n",
    "# Add checkout row\n",
    "checkout = pd.DataFrame(\n",
    "    {\"checkout\": [1], \"dairy\": [0], \"drinks\": [0], \"fruit\": [0], \"spices\": [0]},\n",
    "    index=[\"checkout\"],\n",
    ")\n",
    "P_mon = pd.concat([P_mon, checkout])\n",
    "\n",
    "# Add entrance column\n",
    "P_mon[\"entrance\"] = 0.0\n",
    "\n",
    "P_mon = P_mon[[\"entrance\", \"dairy\", \"drinks\", \"fruit\", \"spices\", \"checkout\"]]\n",
    "P_mon.to_csv(\"../data/weekly/monday_tp.csv\")"
   ]
  },
  {
   "cell_type": "markdown",
   "id": "2c380b1c",
   "metadata": {},
   "source": [
    "### Tuesday transition probabilities"
   ]
  },
  {
   "cell_type": "code",
   "execution_count": null,
   "id": "f79bf565",
   "metadata": {},
   "outputs": [],
   "source": [
    "df_tu = df[df[\"week_day\"] == \"Tuesday\"].copy()"
   ]
  },
  {
   "cell_type": "code",
   "execution_count": null,
   "id": "a6cd0821",
   "metadata": {},
   "outputs": [],
   "source": [
    "df_tu[\"loc_next\"] = df_tu.groupby(\"customer_no\")[\"location\"].shift(-1)"
   ]
  },
  {
   "cell_type": "code",
   "execution_count": null,
   "id": "16f5e923",
   "metadata": {},
   "outputs": [],
   "source": [
    "P_tu = pd.crosstab(\n",
    "    index=df_tu[\"location\"],\n",
    "    columns=df_tu[\"loc_next\"],\n",
    "    normalize=\"index\",\n",
    ")\n",
    "\n",
    "# Add checkout row\n",
    "checkout = pd.DataFrame(\n",
    "    {\"checkout\": [1], \"dairy\": [0], \"drinks\": [0], \"fruit\": [0], \"spices\": [0]},\n",
    "    index=[\"checkout\"],\n",
    ")\n",
    "P_tu = pd.concat([P_tu, checkout])\n",
    "\n",
    "# Add entrance column\n",
    "P_tu[\"entrance\"] = 0.0\n",
    "\n",
    "P_tu = P_tu[[\"entrance\", \"dairy\", \"drinks\", \"fruit\", \"spices\", \"checkout\"]]\n",
    "P_tu.to_csv(\"../data/weekly/tuesday_tp.csv\")"
   ]
  },
  {
   "cell_type": "markdown",
   "id": "83637974",
   "metadata": {},
   "source": [
    "### Wednesday transition probabilities"
   ]
  },
  {
   "cell_type": "code",
   "execution_count": null,
   "id": "6090bb0b",
   "metadata": {},
   "outputs": [],
   "source": [
    "df_wed = df[df[\"week_day\"] == \"Wednesday\"].copy()\n",
    "df_wed.tail()"
   ]
  },
  {
   "cell_type": "code",
   "execution_count": null,
   "id": "02572fb5",
   "metadata": {},
   "outputs": [],
   "source": [
    "df_wed[\"loc_next\"] = df_wed.groupby(\"customer_no\")[\"location\"].shift(-1)\n",
    "df_wed"
   ]
  },
  {
   "cell_type": "code",
   "execution_count": null,
   "id": "9e823dd0",
   "metadata": {},
   "outputs": [],
   "source": [
    "P_wed = pd.crosstab(\n",
    "    index=df_wed[\"location\"],\n",
    "    columns=df_wed[\"loc_next\"],\n",
    "    normalize=\"index\",\n",
    ")\n",
    "\n",
    "# Add checkout row\n",
    "checkout = pd.DataFrame(\n",
    "    {\"checkout\": [1], \"dairy\": [0], \"drinks\": [0], \"fruit\": [0], \"spices\": [0]},\n",
    "    index=[\"checkout\"],\n",
    ")\n",
    "P_wed = pd.concat([P_wed, checkout])\n",
    "\n",
    "# Add entrance column\n",
    "P_wed[\"entrance\"] = 0.0\n",
    "\n",
    "P_wed = P_wed[[\"entrance\", \"dairy\", \"drinks\", \"fruit\", \"spices\", \"checkout\"]]\n",
    "P_wed.to_csv(\"../data/weekly/wednesday_tp.csv\")"
   ]
  },
  {
   "cell_type": "markdown",
   "id": "9d922716",
   "metadata": {},
   "source": [
    "### Thursday transition probabilities"
   ]
  },
  {
   "cell_type": "code",
   "execution_count": null,
   "id": "b371e238",
   "metadata": {},
   "outputs": [],
   "source": [
    "df_th = df[df[\"week_day\"] == \"Thursday\"].copy()\n",
    "df_th.tail()"
   ]
  },
  {
   "cell_type": "code",
   "execution_count": null,
   "id": "f3b76f2c",
   "metadata": {},
   "outputs": [],
   "source": [
    "df_th[\"loc_next\"] = df_th.groupby(\"customer_no\")[\"location\"].shift(-1)\n",
    "df_th"
   ]
  },
  {
   "cell_type": "code",
   "execution_count": null,
   "id": "c23f3ae5",
   "metadata": {},
   "outputs": [],
   "source": [
    "P_th = pd.crosstab(\n",
    "    index=df_th[\"location\"],\n",
    "    columns=df_th[\"loc_next\"],\n",
    "    normalize=\"index\",\n",
    ")\n",
    "\n",
    "# Add checkout row\n",
    "checkout = pd.DataFrame(\n",
    "    {\"checkout\": [1], \"dairy\": [0], \"drinks\": [0], \"fruit\": [0], \"spices\": [0]},\n",
    "    index=[\"checkout\"],\n",
    ")\n",
    "P_th = pd.concat([P_th, checkout])\n",
    "\n",
    "# Add entrance column\n",
    "P_th[\"entrance\"] = 0.0\n",
    "\n",
    "P_th = P_th[[\"entrance\", \"dairy\", \"drinks\", \"fruit\", \"spices\", \"checkout\"]]\n",
    "P_th.to_csv(\"../data/weekly/thursday_tp.csv\")"
   ]
  },
  {
   "cell_type": "markdown",
   "id": "ce413137",
   "metadata": {},
   "source": [
    "### Friday transition probabilities"
   ]
  },
  {
   "cell_type": "code",
   "execution_count": null,
   "id": "e46dd584",
   "metadata": {},
   "outputs": [],
   "source": [
    "df_fr = df[df[\"week_day\"] == \"Friday\"].copy()\n",
    "df_fr.tail()"
   ]
  },
  {
   "cell_type": "code",
   "execution_count": null,
   "id": "3bf2d28b",
   "metadata": {},
   "outputs": [],
   "source": [
    "df_fr[\"loc_next\"] = df_fr.groupby(\"customer_no\")[\"location\"].shift(-1)\n",
    "df_fr"
   ]
  },
  {
   "cell_type": "code",
   "execution_count": null,
   "id": "f494c93e",
   "metadata": {},
   "outputs": [],
   "source": [
    "P_fr = pd.crosstab(\n",
    "    index=df_fr[\"location\"],\n",
    "    columns=df_fr[\"loc_next\"],\n",
    "    normalize=\"index\",\n",
    ")\n",
    "\n",
    "# Add checkout row\n",
    "checkout = pd.DataFrame(\n",
    "    {\"checkout\": [1], \"dairy\": [0], \"drinks\": [0], \"fruit\": [0], \"spices\": [0]},\n",
    "    index=[\"checkout\"],\n",
    ")\n",
    "P_fr = pd.concat([P_fr, checkout])\n",
    "\n",
    "# Add entrance column\n",
    "P_fr[\"entrance\"] = 0.0\n",
    "\n",
    "P_fr = P_fr[[\"entrance\", \"dairy\", \"drinks\", \"fruit\", \"spices\", \"checkout\"]]\n",
    "P_fr.to_csv(\"../data/weekly/friday_tp.csv\")"
   ]
  }
 ],
 "metadata": {
  "kernelspec": {
   "display_name": "jupyter",
   "language": "python",
   "name": "jupyter"
  },
  "language_info": {
   "codemirror_mode": {
    "name": "ipython",
    "version": 3
   },
   "file_extension": ".py",
   "mimetype": "text/x-python",
   "name": "python",
   "nbconvert_exporter": "python",
   "pygments_lexer": "ipython3",
   "version": "3.10.9"
  }
 },
 "nbformat": 4,
 "nbformat_minor": 5
}
